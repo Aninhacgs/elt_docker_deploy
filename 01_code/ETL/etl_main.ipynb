{
 "cells": [
  {
   "cell_type": "markdown",
   "metadata": {
    "scrolled": true
   },
   "source": [
    "!pip install requests"
   ]
  },
  {
   "cell_type": "markdown",
   "metadata": {
    "scrolled": true
   },
   "source": [
    "!pip install pandas"
   ]
  },
  {
   "cell_type": "code",
   "execution_count": 1,
   "metadata": {},
   "outputs": [],
   "source": [
    "import pandas as pd\n",
    "import requests\n",
    "import json\n",
    "import math"
   ]
  },
  {
   "cell_type": "code",
   "execution_count": 2,
   "metadata": {},
   "outputs": [],
   "source": [
    "url_base = \"https://brasil.io/api/dataset/covid19/caso/data/\""
   ]
  },
  {
   "cell_type": "code",
   "execution_count": 3,
   "metadata": {},
   "outputs": [],
   "source": [
    "#url = \"https://brasil.io/api/dataset/covid19/caso_full/data/\"\n",
    "url_initial = \"https://brasil.io/api/dataset/covid19/caso_full/data/?page=\"\n",
    "url_final = \"https://brasil.io/api/dataset/covid19/caso_full/data/?page=254\""
   ]
  },
  {
   "cell_type": "code",
   "execution_count": 5,
   "metadata": {
    "scrolled": true
   },
   "outputs": [],
   "source": [
    "payload = {}\n",
    "headers = {\n",
    "  'Cookie': ''\n",
    "}\n",
    "\n",
    "response_url_base = requests.request(\"GET\", url_base, headers=headers, data = payload)"
   ]
  },
  {
   "cell_type": "code",
   "execution_count": 7,
   "metadata": {
    "scrolled": false
   },
   "outputs": [],
   "source": [
    "data = json.loads(response_url_base.text.encode('utf8').decode('utf8')) if response_url_base.status_code == 200 else print('Escrever Log')"
   ]
  },
  {
   "cell_type": "code",
   "execution_count": 8,
   "metadata": {},
   "outputs": [
    {
     "data": {
      "text/plain": [
       "dict_keys(['count', 'next', 'previous', 'results'])"
      ]
     },
     "execution_count": 8,
     "metadata": {},
     "output_type": "execute_result"
    }
   ],
   "source": [
    "data.keys()"
   ]
  },
  {
   "cell_type": "code",
   "execution_count": 9,
   "metadata": {},
   "outputs": [
    {
     "data": {
      "text/plain": [
       "(248546, 'https://brasil.io/api/dataset/covid19/caso/data/?page=2', None)"
      ]
     },
     "execution_count": 9,
     "metadata": {},
     "output_type": "execute_result"
    }
   ],
   "source": [
    "data['count'], data['next'], data['previous']"
   ]
  },
  {
   "cell_type": "code",
   "execution_count": null,
   "metadata": {},
   "outputs": [],
   "source": []
  },
  {
   "cell_type": "code",
   "execution_count": null,
   "metadata": {
    "scrolled": false
   },
   "outputs": [],
   "source": [
    "math.ceil(data['count']/len(data['results']))"
   ]
  },
  {
   "cell_type": "code",
   "execution_count": null,
   "metadata": {},
   "outputs": [],
   "source": [
    "data['next']"
   ]
  },
  {
   "cell_type": "code",
   "execution_count": null,
   "metadata": {},
   "outputs": [],
   "source": []
  },
  {
   "cell_type": "code",
   "execution_count": null,
   "metadata": {},
   "outputs": [],
   "source": []
  },
  {
   "cell_type": "code",
   "execution_count": null,
   "metadata": {},
   "outputs": [],
   "source": []
  },
  {
   "cell_type": "code",
   "execution_count": null,
   "metadata": {},
   "outputs": [],
   "source": []
  },
  {
   "cell_type": "code",
   "execution_count": null,
   "metadata": {
    "scrolled": false
   },
   "outputs": [],
   "source": [
    "data['results'][0]"
   ]
  },
  {
   "cell_type": "code",
   "execution_count": 10,
   "metadata": {
    "scrolled": true
   },
   "outputs": [
    {
     "data": {
      "text/html": [
       "<div>\n",
       "<style scoped>\n",
       "    .dataframe tbody tr th:only-of-type {\n",
       "        vertical-align: middle;\n",
       "    }\n",
       "\n",
       "    .dataframe tbody tr th {\n",
       "        vertical-align: top;\n",
       "    }\n",
       "\n",
       "    .dataframe thead th {\n",
       "        text-align: right;\n",
       "    }\n",
       "</style>\n",
       "<table border=\"1\" class=\"dataframe\">\n",
       "  <thead>\n",
       "    <tr style=\"text-align: right;\">\n",
       "      <th></th>\n",
       "      <th>city</th>\n",
       "      <th>city_ibge_code</th>\n",
       "      <th>confirmed</th>\n",
       "      <th>confirmed_per_100k_inhabitants</th>\n",
       "      <th>date</th>\n",
       "      <th>death_rate</th>\n",
       "      <th>deaths</th>\n",
       "      <th>estimated_population_2019</th>\n",
       "      <th>is_last</th>\n",
       "      <th>order_for_place</th>\n",
       "      <th>place_type</th>\n",
       "      <th>state</th>\n",
       "    </tr>\n",
       "  </thead>\n",
       "  <tbody>\n",
       "    <tr>\n",
       "      <th>0</th>\n",
       "      <td>None</td>\n",
       "      <td>12</td>\n",
       "      <td>12022</td>\n",
       "      <td>1363.13901</td>\n",
       "      <td>2020-06-24</td>\n",
       "      <td>0.0271</td>\n",
       "      <td>326</td>\n",
       "      <td>881935.0</td>\n",
       "      <td>True</td>\n",
       "      <td>100</td>\n",
       "      <td>state</td>\n",
       "      <td>AC</td>\n",
       "    </tr>\n",
       "    <tr>\n",
       "      <th>1</th>\n",
       "      <td>Água Branca</td>\n",
       "      <td>2700102</td>\n",
       "      <td>23</td>\n",
       "      <td>113.88394</td>\n",
       "      <td>2020-06-24</td>\n",
       "      <td>0.0000</td>\n",
       "      <td>0</td>\n",
       "      <td>20196.0</td>\n",
       "      <td>True</td>\n",
       "      <td>22</td>\n",
       "      <td>city</td>\n",
       "      <td>AL</td>\n",
       "    </tr>\n",
       "    <tr>\n",
       "      <th>2</th>\n",
       "      <td>Anadia</td>\n",
       "      <td>2700201</td>\n",
       "      <td>172</td>\n",
       "      <td>980.33628</td>\n",
       "      <td>2020-06-24</td>\n",
       "      <td>0.0058</td>\n",
       "      <td>1</td>\n",
       "      <td>17545.0</td>\n",
       "      <td>True</td>\n",
       "      <td>63</td>\n",
       "      <td>city</td>\n",
       "      <td>AL</td>\n",
       "    </tr>\n",
       "    <tr>\n",
       "      <th>3</th>\n",
       "      <td>Arapiraca</td>\n",
       "      <td>2700300</td>\n",
       "      <td>2279</td>\n",
       "      <td>983.40000</td>\n",
       "      <td>2020-06-24</td>\n",
       "      <td>0.0123</td>\n",
       "      <td>28</td>\n",
       "      <td>231747.0</td>\n",
       "      <td>True</td>\n",
       "      <td>68</td>\n",
       "      <td>city</td>\n",
       "      <td>AL</td>\n",
       "    </tr>\n",
       "    <tr>\n",
       "      <th>4</th>\n",
       "      <td>Atalaia</td>\n",
       "      <td>2700409</td>\n",
       "      <td>390</td>\n",
       "      <td>826.53386</td>\n",
       "      <td>2020-06-24</td>\n",
       "      <td>0.0154</td>\n",
       "      <td>6</td>\n",
       "      <td>47185.0</td>\n",
       "      <td>True</td>\n",
       "      <td>60</td>\n",
       "      <td>city</td>\n",
       "      <td>AL</td>\n",
       "    </tr>\n",
       "    <tr>\n",
       "      <th>...</th>\n",
       "      <td>...</td>\n",
       "      <td>...</td>\n",
       "      <td>...</td>\n",
       "      <td>...</td>\n",
       "      <td>...</td>\n",
       "      <td>...</td>\n",
       "      <td>...</td>\n",
       "      <td>...</td>\n",
       "      <td>...</td>\n",
       "      <td>...</td>\n",
       "      <td>...</td>\n",
       "      <td>...</td>\n",
       "    </tr>\n",
       "    <tr>\n",
       "      <th>995</th>\n",
       "      <td>Flexeiras</td>\n",
       "      <td>2702801</td>\n",
       "      <td>110</td>\n",
       "      <td>860.04691</td>\n",
       "      <td>2020-06-23</td>\n",
       "      <td>0.0182</td>\n",
       "      <td>2</td>\n",
       "      <td>12790.0</td>\n",
       "      <td>False</td>\n",
       "      <td>47</td>\n",
       "      <td>city</td>\n",
       "      <td>AL</td>\n",
       "    </tr>\n",
       "    <tr>\n",
       "      <th>996</th>\n",
       "      <td>Girau do Ponciano</td>\n",
       "      <td>2702900</td>\n",
       "      <td>292</td>\n",
       "      <td>713.63981</td>\n",
       "      <td>2020-06-23</td>\n",
       "      <td>0.0068</td>\n",
       "      <td>2</td>\n",
       "      <td>40917.0</td>\n",
       "      <td>False</td>\n",
       "      <td>35</td>\n",
       "      <td>city</td>\n",
       "      <td>AL</td>\n",
       "    </tr>\n",
       "    <tr>\n",
       "      <th>997</th>\n",
       "      <td>Ibateguara</td>\n",
       "      <td>2703007</td>\n",
       "      <td>45</td>\n",
       "      <td>288.16598</td>\n",
       "      <td>2020-06-23</td>\n",
       "      <td>0.1111</td>\n",
       "      <td>5</td>\n",
       "      <td>15616.0</td>\n",
       "      <td>False</td>\n",
       "      <td>66</td>\n",
       "      <td>city</td>\n",
       "      <td>AL</td>\n",
       "    </tr>\n",
       "    <tr>\n",
       "      <th>998</th>\n",
       "      <td>Igaci</td>\n",
       "      <td>2703106</td>\n",
       "      <td>44</td>\n",
       "      <td>171.66712</td>\n",
       "      <td>2020-06-23</td>\n",
       "      <td>0.0000</td>\n",
       "      <td>0</td>\n",
       "      <td>25631.0</td>\n",
       "      <td>False</td>\n",
       "      <td>44</td>\n",
       "      <td>city</td>\n",
       "      <td>AL</td>\n",
       "    </tr>\n",
       "    <tr>\n",
       "      <th>999</th>\n",
       "      <td>Igreja Nova</td>\n",
       "      <td>2703205</td>\n",
       "      <td>48</td>\n",
       "      <td>195.92636</td>\n",
       "      <td>2020-06-23</td>\n",
       "      <td>0.0417</td>\n",
       "      <td>2</td>\n",
       "      <td>24499.0</td>\n",
       "      <td>False</td>\n",
       "      <td>32</td>\n",
       "      <td>city</td>\n",
       "      <td>AL</td>\n",
       "    </tr>\n",
       "  </tbody>\n",
       "</table>\n",
       "<p>1000 rows × 12 columns</p>\n",
       "</div>"
      ],
      "text/plain": [
       "                  city city_ibge_code  confirmed  \\\n",
       "0                 None             12      12022   \n",
       "1          Água Branca        2700102         23   \n",
       "2               Anadia        2700201        172   \n",
       "3            Arapiraca        2700300       2279   \n",
       "4              Atalaia        2700409        390   \n",
       "..                 ...            ...        ...   \n",
       "995          Flexeiras        2702801        110   \n",
       "996  Girau do Ponciano        2702900        292   \n",
       "997         Ibateguara        2703007         45   \n",
       "998              Igaci        2703106         44   \n",
       "999        Igreja Nova        2703205         48   \n",
       "\n",
       "     confirmed_per_100k_inhabitants        date  death_rate  deaths  \\\n",
       "0                        1363.13901  2020-06-24      0.0271     326   \n",
       "1                         113.88394  2020-06-24      0.0000       0   \n",
       "2                         980.33628  2020-06-24      0.0058       1   \n",
       "3                         983.40000  2020-06-24      0.0123      28   \n",
       "4                         826.53386  2020-06-24      0.0154       6   \n",
       "..                              ...         ...         ...     ...   \n",
       "995                       860.04691  2020-06-23      0.0182       2   \n",
       "996                       713.63981  2020-06-23      0.0068       2   \n",
       "997                       288.16598  2020-06-23      0.1111       5   \n",
       "998                       171.66712  2020-06-23      0.0000       0   \n",
       "999                       195.92636  2020-06-23      0.0417       2   \n",
       "\n",
       "     estimated_population_2019  is_last  order_for_place place_type state  \n",
       "0                     881935.0     True              100      state    AC  \n",
       "1                      20196.0     True               22       city    AL  \n",
       "2                      17545.0     True               63       city    AL  \n",
       "3                     231747.0     True               68       city    AL  \n",
       "4                      47185.0     True               60       city    AL  \n",
       "..                         ...      ...              ...        ...   ...  \n",
       "995                    12790.0    False               47       city    AL  \n",
       "996                    40917.0    False               35       city    AL  \n",
       "997                    15616.0    False               66       city    AL  \n",
       "998                    25631.0    False               44       city    AL  \n",
       "999                    24499.0    False               32       city    AL  \n",
       "\n",
       "[1000 rows x 12 columns]"
      ]
     },
     "execution_count": 10,
     "metadata": {},
     "output_type": "execute_result"
    }
   ],
   "source": [
    "pd.DataFrame.from_dict(data['results'])"
   ]
  },
  {
   "cell_type": "code",
   "execution_count": null,
   "metadata": {},
   "outputs": [],
   "source": [
    "pd.DataFrame.from_dict(data['results'])"
   ]
  },
  {
   "cell_type": "markdown",
   "metadata": {},
   "source": [
    "dash.plotly.com\n",
    "\n",
    "elt_main.py\n",
    "\n",
    "show_df.py"
   ]
  }
 ],
 "metadata": {
  "kernelspec": {
   "display_name": "Python 3",
   "language": "python",
   "name": "python3"
  },
  "language_info": {
   "codemirror_mode": {
    "name": "ipython",
    "version": 3
   },
   "file_extension": ".py",
   "mimetype": "text/x-python",
   "name": "python",
   "nbconvert_exporter": "python",
   "pygments_lexer": "ipython3",
   "version": "3.8.2"
  }
 },
 "nbformat": 4,
 "nbformat_minor": 4
}
