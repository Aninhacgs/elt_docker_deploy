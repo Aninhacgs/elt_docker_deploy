{
 "cells": [
  {
   "cell_type": "markdown",
   "metadata": {
    "scrolled": true
   },
   "source": [
    "!pip install requests"
   ]
  },
  {
   "cell_type": "markdown",
   "metadata": {
    "scrolled": true
   },
   "source": [
    "!pip install pandas"
   ]
  },
  {
   "cell_type": "markdown",
   "metadata": {},
   "source": [
    "##### Importando libs"
   ]
  },
  {
   "cell_type": "code",
   "execution_count": 1,
   "metadata": {},
   "outputs": [],
   "source": [
    "import pandas as pd\n",
    "import requests\n",
    "import json\n",
    "import math\n",
    "import os\n",
    "import re"
   ]
  },
  {
   "cell_type": "code",
   "execution_count": 2,
   "metadata": {},
   "outputs": [],
   "source": [
    "from json import JSONDecodeError"
   ]
  },
  {
   "cell_type": "markdown",
   "metadata": {},
   "source": [
    "##### Definindo parâmetros da chamada"
   ]
  },
  {
   "cell_type": "code",
   "execution_count": 3,
   "metadata": {},
   "outputs": [],
   "source": [
    "payload = {}\n",
    "headers = {'Cookie': ''}"
   ]
  },
  {
   "cell_type": "markdown",
   "metadata": {},
   "source": [
    "##### Definindo url e enviando chamada"
   ]
  },
  {
   "cell_type": "code",
   "execution_count": 4,
   "metadata": {},
   "outputs": [],
   "source": [
    "url_raw = \"https://brasil.io/api/dataset/covid19/caso_full/data/?page=\"\n",
    "url_base = \"https://brasil.io/api/dataset/covid19/caso_full/data/?page=1\"\n",
    "response_url_base = requests.request(\"GET\", url_base, headers=headers, data = payload)"
   ]
  },
  {
   "cell_type": "markdown",
   "metadata": {},
   "source": [
    "### Carregando o resultado da chamada\n",
    "##### A disponibilidade do link é sempre verificada "
   ]
  },
  {
   "cell_type": "code",
   "execution_count": 5,
   "metadata": {},
   "outputs": [],
   "source": [
    "data = json.loads(response_url_base.text.encode('utf8').decode('utf8')) \\\n",
    "    if response_url_base.status_code == 200 \\\n",
    "        else print('Escrever Log')"
   ]
  },
  {
   "cell_type": "markdown",
   "metadata": {},
   "source": [
    "### Como há paginação da API e os dados crescem a cada dia, foi adicionado um um variável verificadora do link \"final\" da API"
   ]
  },
  {
   "cell_type": "code",
   "execution_count": 6,
   "metadata": {
    "scrolled": true
   },
   "outputs": [
    {
     "name": "stdout",
     "output_type": "stream",
     "text": [
      "https://brasil.io/api/dataset/covid19/caso_full/data/?page=269\n"
     ]
    }
   ],
   "source": [
    "page_final = math.ceil(data['count']/len(data['results']))\n",
    "\n",
    "url_final = \"https://brasil.io/api/dataset/covid19/caso_full/data/?page=\" + str(page_final) + \"\"\n",
    "\n",
    "print(url_final)"
   ]
  },
  {
   "cell_type": "code",
   "execution_count": 7,
   "metadata": {},
   "outputs": [
    {
     "data": {
      "text/plain": [
       "('https://brasil.io/api/dataset/covid19/caso_full/data/?page=2', None)"
      ]
     },
     "execution_count": 7,
     "metadata": {},
     "output_type": "execute_result"
    }
   ],
   "source": [
    "data['next'], data['previous']"
   ]
  },
  {
   "cell_type": "code",
   "execution_count": 8,
   "metadata": {
    "scrolled": true
   },
   "outputs": [
    {
     "data": {
      "text/plain": [
       "(None, 'https://brasil.io/api/dataset/covid19/caso_full/data/?page=268')"
      ]
     },
     "execution_count": 8,
     "metadata": {},
     "output_type": "execute_result"
    }
   ],
   "source": [
    "response_url_final = requests.request(\"GET\", url_final, headers=headers, data = payload)\n",
    "data_final = json.loads(response_url_final.text.encode('utf8').decode('utf8'))\n",
    "data_final['next'], data_final['previous']"
   ]
  },
  {
   "cell_type": "markdown",
   "metadata": {},
   "source": [
    "### Salvando o resultado da requisição em formato csv, na qual estava em formato json\n",
    "##### O arquivo apenas será salve caso ele não exista"
   ]
  },
  {
   "cell_type": "code",
   "execution_count": 9,
   "metadata": {},
   "outputs": [
    {
     "name": "stdout",
     "output_type": "stream",
     "text": [
      "DataFrame já carregado\n"
     ]
    }
   ],
   "source": [
    "pd.DataFrame.from_dict(data['results'])\\\n",
    "    .to_csv(os.getcwd() + '\\\\DataFrame\\\\01_RAW\\\\' + re.sub('[^a-zA-Z0-9 \\n\\.]', '_', url_base) + '.csv', index = False) \\\n",
    "        if not re.sub('[^a-zA-Z0-9 \\n\\.]', '_', url_base) + '.csv' in os.listdir(path = os.getcwd() + '\\\\DataFrame\\\\01_raw') \\\n",
    "            else  print('DataFrame já carregado')"
   ]
  },
  {
   "cell_type": "code",
   "execution_count": 10,
   "metadata": {},
   "outputs": [],
   "source": [
    "link_num = 0\n",
    "link_num_begin = 0\n",
    "link_num_end = 10"
   ]
  },
  {
   "cell_type": "code",
   "execution_count": 11,
   "metadata": {
    "scrolled": true
   },
   "outputs": [
    {
     "name": "stdout",
     "output_type": "stream",
     "text": [
      "DataFrame já carregado\n",
      "DataFrame já carregado\n",
      "DataFrame já carregado\n",
      "DataFrame já carregado\n",
      "DataFrame já carregado\n",
      "DataFrame já carregado\n",
      "DataFrame já carregado\n",
      "DataFrame já carregado\n",
      "DataFrame já carregado\n",
      "DataFrame já carregado\n",
      "Execução Terminada\n"
     ]
    }
   ],
   "source": [
    "try:\n",
    "    while link_num_begin < link_num_end:\n",
    "        for link_num in range(1, page_final + 1):\n",
    "\n",
    "            if re.sub('[^a-zA-Z0-9 \\n\\.]', '_', url_raw + str(link_num)) + '.csv' in os.listdir(path = os.getcwd() + '\\\\DataFrame\\\\01_raw'):\n",
    "                print('DataFrame já carregado', end = '\\n')\n",
    "            else:\n",
    "                response_url_link_num = requests.request(\"GET\", url_raw + str(link_num), headers=headers, data = payload)\n",
    "                data_link_num = json.loads(response_url_link_num.text.encode('utf8').decode('utf8')) if response_url_link_num.status_code == 200 else print('Escrever Log')\n",
    "\n",
    "                print(url_raw + str(link_num))\n",
    "\n",
    "                pd.DataFrame.from_dict(data_link_num['results'])\\\n",
    "                    .to_csv(os.getcwd() + '\\\\DataFrame\\\\01_raw\\\\' + re.sub('[^a-zA-Z0-9 \\n\\.]', '_', url_raw + str(link_num)) + '.csv', index = False) \\\n",
    "                        if not re.sub('[^a-zA-Z0-9 \\n\\.]', '_', url_raw + str(link_num)) + '.csv' in os.listdir(path = os.getcwd() + '\\\\DataFrame\\\\01_raw') else \\\n",
    "                            print('DataFrame já carregado', end = '\\n\\n')\n",
    "\n",
    "            link_num_begin = link_num_begin + 1\n",
    "\n",
    "            if link_num_begin == link_num_end:\n",
    "                break\n",
    "                \n",
    "except(TypeError, JSONDecodeError, ConnectTimeout, HTTPError, ReadTimeout, Timeout, ConnectionError, requests.exceptions.RequestException):\n",
    "    pass\n",
    "\n",
    "finally:\n",
    "    print('Execução Terminada')"
   ]
  },
  {
   "cell_type": "markdown",
   "metadata": {},
   "source": [
    "### Caso de uso tendo coomo base a url final"
   ]
  },
  {
   "cell_type": "code",
   "execution_count": 12,
   "metadata": {},
   "outputs": [
    {
     "name": "stdout",
     "output_type": "stream",
     "text": [
      "DataFrame já carregado\n",
      "DataFrame já carregado\n",
      "Execução Terminada\n"
     ]
    }
   ],
   "source": [
    "data_link = ''\n",
    "\n",
    "try:\n",
    "    while data_link != None:\n",
    "        for link_num in range(page_final - 1, page_final + 1):\n",
    "\n",
    "            if re.sub('[^a-zA-Z0-9 \\n\\.]', '_', url_raw + str(link_num)) + '.csv' in os.listdir(path = os.getcwd() + '\\\\DataFrame\\\\01_raw'):\n",
    "                print('DataFrame já carregado', end = '\\n')\n",
    "                \n",
    "                response_url_link_num = requests.request(\"GET\", url_raw + str(link_num), headers=headers, data = payload)\n",
    "                data_link_num = json.loads(response_url_link_num.text.encode('utf8').decode('utf8')) if response_url_link_num.status_code == 200 else print('Escrever Log')\n",
    "                data_link = data_link_num['next']\n",
    "                \n",
    "\n",
    "            else:\n",
    "                response_url_link_num = requests.request(\"GET\", url_raw + str(link_num), headers=headers, data = payload)\n",
    "                data_link_num = json.loads(response_url_link_num.text.encode('utf8').decode('utf8')) if response_url_link_num.status_code == 200 else print('Escrever Log')\n",
    "                data_link = data_link_num['next']\n",
    "                \n",
    "                print(url_raw + str(link_num))\n",
    "\n",
    "                pd.DataFrame.from_dict(data_link_num['results'])\\\n",
    "                    .to_csv(os.getcwd() + '\\\\DataFrame\\\\01_raw\\\\' + re.sub('[^a-zA-Z0-9 \\n\\.]', '_', url_raw + str(link_num)) + '.csv', index = False) \\\n",
    "                        if not re.sub('[^a-zA-Z0-9 \\n\\.]', '_', url_raw + str(link_num)) + '.csv' in os.listdir(path = os.getcwd() + '\\\\DataFrame\\\\01_raw') else \\\n",
    "                            print('DataFrame já carregado', end = '\\n\\n')\n",
    "\n",
    "\n",
    "                if data_link_num['next'] == None:\n",
    "                    break\n",
    "                \n",
    "except(TypeError, JSONDecodeError, ConnectTimeout, HTTPError, ReadTimeout, Timeout, ConnectionError, requests.exceptions.RequestException):\n",
    "    pass\n",
    "\n",
    "finally:\n",
    "    print('Execução Terminada')"
   ]
  },
  {
   "cell_type": "code",
   "execution_count": 13,
   "metadata": {
    "scrolled": false
   },
   "outputs": [
    {
     "data": {
      "text/plain": [
       "True"
      ]
     },
     "execution_count": 13,
     "metadata": {},
     "output_type": "execute_result"
    }
   ],
   "source": [
    "data_link is None"
   ]
  },
  {
   "cell_type": "markdown",
   "metadata": {},
   "source": [
    "### Empilhar DFs"
   ]
  },
  {
   "cell_type": "code",
   "execution_count": null,
   "metadata": {},
   "outputs": [],
   "source": []
  },
  {
   "cell_type": "markdown",
   "metadata": {},
   "source": [
    "dash.plotly.com\n",
    "\n",
    "elt_main.py\n",
    "\n",
    "show_df.py"
   ]
  }
 ],
 "metadata": {
  "kernelspec": {
   "display_name": "Python 3",
   "language": "python",
   "name": "python3"
  },
  "language_info": {
   "codemirror_mode": {
    "name": "ipython",
    "version": 3
   },
   "file_extension": ".py",
   "mimetype": "text/x-python",
   "name": "python",
   "nbconvert_exporter": "python",
   "pygments_lexer": "ipython3",
   "version": "3.8.2"
  }
 },
 "nbformat": 4,
 "nbformat_minor": 4
}
