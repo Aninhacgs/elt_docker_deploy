{
 "cells": [
  {
   "cell_type": "code",
   "execution_count": 23,
   "metadata": {
    "scrolled": true
   },
   "outputs": [
    {
     "name": "stdout",
     "output_type": "stream",
     "text": [
      "Requirement already satisfied: requests in c:\\python\\lib\\site-packages (2.24.0)\n",
      "Requirement already satisfied: certifi>=2017.4.17 in c:\\python\\lib\\site-packages (from requests) (2020.6.20)\n",
      "Requirement already satisfied: chardet<4,>=3.0.2 in c:\\python\\lib\\site-packages (from requests) (3.0.4)\n",
      "Requirement already satisfied: urllib3!=1.25.0,!=1.25.1,<1.26,>=1.21.1 in c:\\python\\lib\\site-packages (from requests) (1.25.9)\n",
      "Requirement already satisfied: idna<3,>=2.5 in c:\\python\\lib\\site-packages (from requests) (2.9)\n"
     ]
    }
   ],
   "source": [
    "!pip install requests"
   ]
  },
  {
   "cell_type": "code",
   "execution_count": 24,
   "metadata": {
    "scrolled": true
   },
   "outputs": [
    {
     "name": "stdout",
     "output_type": "stream",
     "text": [
      "Requirement already satisfied: pandas in c:\\python\\lib\\site-packages (1.0.5)\n",
      "Requirement already satisfied: pytz>=2017.2 in c:\\python\\lib\\site-packages (from pandas) (2020.1)\n",
      "Requirement already satisfied: python-dateutil>=2.6.1 in c:\\python\\lib\\site-packages (from pandas) (2.8.1)\n",
      "Requirement already satisfied: numpy>=1.13.3 in c:\\python\\lib\\site-packages (from pandas) (1.19.0)\n",
      "Requirement already satisfied: six>=1.5 in c:\\python\\lib\\site-packages (from python-dateutil>=2.6.1->pandas) (1.14.0)\n"
     ]
    }
   ],
   "source": [
    "!pip install pandas"
   ]
  },
  {
   "cell_type": "code",
   "execution_count": 89,
   "metadata": {},
   "outputs": [],
   "source": [
    "import pandas as pd\n",
    "import requests\n",
    "import json\n",
    "import math"
   ]
  },
  {
   "cell_type": "code",
   "execution_count": 92,
   "metadata": {},
   "outputs": [],
   "source": [
    "url = \"https://brasil.io/api/dataset/covid19/caso/data/\""
   ]
  },
  {
   "cell_type": "code",
   "execution_count": null,
   "metadata": {},
   "outputs": [],
   "source": [
    "#url = \"https://brasil.io/api/dataset/covid19/caso_full/data/\"\n",
    "url = \"https://brasil.io/api/dataset/covid19/caso_full/data/?page=\"\n",
    "url = \"https://brasil.io/api/dataset/covid19/caso_full/data/?page=254\""
   ]
  },
  {
   "cell_type": "code",
   "execution_count": 93,
   "metadata": {
    "scrolled": true
   },
   "outputs": [],
   "source": [
    "payload = {}\n",
    "headers = {\n",
    "  'Cookie': ''\n",
    "}\n",
    "\n",
    "response = requests.request(\"GET\", url, headers=headers, data = payload)"
   ]
  },
  {
   "cell_type": "code",
   "execution_count": 94,
   "metadata": {
    "scrolled": false
   },
   "outputs": [],
   "source": [
    "data = json.loads(response.text.encode('utf8').decode('utf8')) if response.status_code == 200 else print('Escrever Log')"
   ]
  },
  {
   "cell_type": "code",
   "execution_count": 95,
   "metadata": {
    "scrolled": true
   },
   "outputs": [
    {
     "data": {
      "text/plain": [
       "dict_keys(['city', 'city_ibge_code', 'confirmed', 'confirmed_per_100k_inhabitants', 'date', 'death_rate', 'deaths', 'estimated_population_2019', 'is_last', 'order_for_place', 'place_type', 'state'])"
      ]
     },
     "execution_count": 95,
     "metadata": {},
     "output_type": "execute_result"
    }
   ],
   "source": [
    "data['results'][0].keys()"
   ]
  },
  {
   "cell_type": "code",
   "execution_count": 96,
   "metadata": {
    "scrolled": false
   },
   "outputs": [
    {
     "data": {
      "text/plain": [
       "246"
      ]
     },
     "execution_count": 96,
     "metadata": {},
     "output_type": "execute_result"
    }
   ],
   "source": [
    "math.ceil(data['count']/len(data['results']))"
   ]
  },
  {
   "cell_type": "code",
   "execution_count": 97,
   "metadata": {},
   "outputs": [
    {
     "data": {
      "text/plain": [
       "'https://brasil.io/api/dataset/covid19/caso/data/?page=2'"
      ]
     },
     "execution_count": 97,
     "metadata": {},
     "output_type": "execute_result"
    }
   ],
   "source": [
    "data['next']"
   ]
  },
  {
   "cell_type": "code",
   "execution_count": 98,
   "metadata": {
    "scrolled": false
   },
   "outputs": [
    {
     "data": {
      "text/plain": [
       "{'city': None,\n",
       " 'city_ibge_code': '12',\n",
       " 'confirmed': 11810,\n",
       " 'confirmed_per_100k_inhabitants': 1339.10095,\n",
       " 'date': '2020-06-23',\n",
       " 'death_rate': 0.0272,\n",
       " 'deaths': 321,\n",
       " 'estimated_population_2019': 881935,\n",
       " 'is_last': True,\n",
       " 'order_for_place': 99,\n",
       " 'place_type': 'state',\n",
       " 'state': 'AC'}"
      ]
     },
     "execution_count": 98,
     "metadata": {},
     "output_type": "execute_result"
    }
   ],
   "source": [
    "data['results'][0]"
   ]
  },
  {
   "cell_type": "code",
   "execution_count": 99,
   "metadata": {
    "scrolled": false
   },
   "outputs": [
    {
     "data": {
      "text/html": [
       "<div>\n",
       "<style scoped>\n",
       "    .dataframe tbody tr th:only-of-type {\n",
       "        vertical-align: middle;\n",
       "    }\n",
       "\n",
       "    .dataframe tbody tr th {\n",
       "        vertical-align: top;\n",
       "    }\n",
       "\n",
       "    .dataframe thead th {\n",
       "        text-align: right;\n",
       "    }\n",
       "</style>\n",
       "<table border=\"1\" class=\"dataframe\">\n",
       "  <thead>\n",
       "    <tr style=\"text-align: right;\">\n",
       "      <th></th>\n",
       "      <th>city</th>\n",
       "      <th>city_ibge_code</th>\n",
       "      <th>confirmed</th>\n",
       "      <th>confirmed_per_100k_inhabitants</th>\n",
       "      <th>date</th>\n",
       "      <th>death_rate</th>\n",
       "      <th>deaths</th>\n",
       "      <th>estimated_population_2019</th>\n",
       "      <th>is_last</th>\n",
       "      <th>order_for_place</th>\n",
       "      <th>place_type</th>\n",
       "      <th>state</th>\n",
       "    </tr>\n",
       "  </thead>\n",
       "  <tbody>\n",
       "    <tr>\n",
       "      <th>0</th>\n",
       "      <td>None</td>\n",
       "      <td>12</td>\n",
       "      <td>11810</td>\n",
       "      <td>1339.10095</td>\n",
       "      <td>2020-06-23</td>\n",
       "      <td>0.0272</td>\n",
       "      <td>321</td>\n",
       "      <td>881935.0</td>\n",
       "      <td>True</td>\n",
       "      <td>99</td>\n",
       "      <td>state</td>\n",
       "      <td>AC</td>\n",
       "    </tr>\n",
       "    <tr>\n",
       "      <th>1</th>\n",
       "      <td>None</td>\n",
       "      <td>27</td>\n",
       "      <td>30246</td>\n",
       "      <td>906.28602</td>\n",
       "      <td>2020-06-23</td>\n",
       "      <td>0.0304</td>\n",
       "      <td>920</td>\n",
       "      <td>3337357.0</td>\n",
       "      <td>True</td>\n",
       "      <td>104</td>\n",
       "      <td>state</td>\n",
       "      <td>AL</td>\n",
       "    </tr>\n",
       "    <tr>\n",
       "      <th>2</th>\n",
       "      <td>Alvarães</td>\n",
       "      <td>1300029</td>\n",
       "      <td>505</td>\n",
       "      <td>3148.18278</td>\n",
       "      <td>2020-06-23</td>\n",
       "      <td>0.0238</td>\n",
       "      <td>12</td>\n",
       "      <td>16041.0</td>\n",
       "      <td>True</td>\n",
       "      <td>51</td>\n",
       "      <td>city</td>\n",
       "      <td>AM</td>\n",
       "    </tr>\n",
       "    <tr>\n",
       "      <th>3</th>\n",
       "      <td>Amaturá</td>\n",
       "      <td>1300060</td>\n",
       "      <td>364</td>\n",
       "      <td>3155.33981</td>\n",
       "      <td>2020-06-23</td>\n",
       "      <td>0.0220</td>\n",
       "      <td>8</td>\n",
       "      <td>11536.0</td>\n",
       "      <td>True</td>\n",
       "      <td>61</td>\n",
       "      <td>city</td>\n",
       "      <td>AM</td>\n",
       "    </tr>\n",
       "    <tr>\n",
       "      <th>4</th>\n",
       "      <td>Anamã</td>\n",
       "      <td>1300086</td>\n",
       "      <td>268</td>\n",
       "      <td>1968.56177</td>\n",
       "      <td>2020-06-23</td>\n",
       "      <td>0.0000</td>\n",
       "      <td>0</td>\n",
       "      <td>13614.0</td>\n",
       "      <td>True</td>\n",
       "      <td>71</td>\n",
       "      <td>city</td>\n",
       "      <td>AM</td>\n",
       "    </tr>\n",
       "    <tr>\n",
       "      <th>...</th>\n",
       "      <td>...</td>\n",
       "      <td>...</td>\n",
       "      <td>...</td>\n",
       "      <td>...</td>\n",
       "      <td>...</td>\n",
       "      <td>...</td>\n",
       "      <td>...</td>\n",
       "      <td>...</td>\n",
       "      <td>...</td>\n",
       "      <td>...</td>\n",
       "      <td>...</td>\n",
       "      <td>...</td>\n",
       "    </tr>\n",
       "    <tr>\n",
       "      <th>995</th>\n",
       "      <td>Presidente Juscelino</td>\n",
       "      <td>3153202</td>\n",
       "      <td>1</td>\n",
       "      <td>27.46498</td>\n",
       "      <td>2020-06-23</td>\n",
       "      <td>1.0000</td>\n",
       "      <td>1</td>\n",
       "      <td>3641.0</td>\n",
       "      <td>True</td>\n",
       "      <td>60</td>\n",
       "      <td>city</td>\n",
       "      <td>MG</td>\n",
       "    </tr>\n",
       "    <tr>\n",
       "      <th>996</th>\n",
       "      <td>Presidente Kubitschek</td>\n",
       "      <td>3153301</td>\n",
       "      <td>1</td>\n",
       "      <td>33.31113</td>\n",
       "      <td>2020-06-23</td>\n",
       "      <td>0.0000</td>\n",
       "      <td>0</td>\n",
       "      <td>3002.0</td>\n",
       "      <td>True</td>\n",
       "      <td>4</td>\n",
       "      <td>city</td>\n",
       "      <td>MG</td>\n",
       "    </tr>\n",
       "    <tr>\n",
       "      <th>997</th>\n",
       "      <td>Presidente Olegário</td>\n",
       "      <td>3153400</td>\n",
       "      <td>1</td>\n",
       "      <td>5.10908</td>\n",
       "      <td>2020-06-23</td>\n",
       "      <td>0.0000</td>\n",
       "      <td>0</td>\n",
       "      <td>19573.0</td>\n",
       "      <td>True</td>\n",
       "      <td>13</td>\n",
       "      <td>city</td>\n",
       "      <td>MG</td>\n",
       "    </tr>\n",
       "    <tr>\n",
       "      <th>998</th>\n",
       "      <td>Raposos</td>\n",
       "      <td>3153905</td>\n",
       "      <td>29</td>\n",
       "      <td>177.32665</td>\n",
       "      <td>2020-06-23</td>\n",
       "      <td>0.0690</td>\n",
       "      <td>2</td>\n",
       "      <td>16354.0</td>\n",
       "      <td>True</td>\n",
       "      <td>53</td>\n",
       "      <td>city</td>\n",
       "      <td>MG</td>\n",
       "    </tr>\n",
       "    <tr>\n",
       "      <th>999</th>\n",
       "      <td>Raul Soares</td>\n",
       "      <td>3154002</td>\n",
       "      <td>6</td>\n",
       "      <td>25.25040</td>\n",
       "      <td>2020-06-23</td>\n",
       "      <td>0.0000</td>\n",
       "      <td>0</td>\n",
       "      <td>23762.0</td>\n",
       "      <td>True</td>\n",
       "      <td>35</td>\n",
       "      <td>city</td>\n",
       "      <td>MG</td>\n",
       "    </tr>\n",
       "  </tbody>\n",
       "</table>\n",
       "<p>1000 rows × 12 columns</p>\n",
       "</div>"
      ],
      "text/plain": [
       "                      city city_ibge_code  confirmed  \\\n",
       "0                     None             12      11810   \n",
       "1                     None             27      30246   \n",
       "2                 Alvarães        1300029        505   \n",
       "3                  Amaturá        1300060        364   \n",
       "4                    Anamã        1300086        268   \n",
       "..                     ...            ...        ...   \n",
       "995   Presidente Juscelino        3153202          1   \n",
       "996  Presidente Kubitschek        3153301          1   \n",
       "997    Presidente Olegário        3153400          1   \n",
       "998                Raposos        3153905         29   \n",
       "999            Raul Soares        3154002          6   \n",
       "\n",
       "     confirmed_per_100k_inhabitants        date  death_rate  deaths  \\\n",
       "0                        1339.10095  2020-06-23      0.0272     321   \n",
       "1                         906.28602  2020-06-23      0.0304     920   \n",
       "2                        3148.18278  2020-06-23      0.0238      12   \n",
       "3                        3155.33981  2020-06-23      0.0220       8   \n",
       "4                        1968.56177  2020-06-23      0.0000       0   \n",
       "..                              ...         ...         ...     ...   \n",
       "995                        27.46498  2020-06-23      1.0000       1   \n",
       "996                        33.31113  2020-06-23      0.0000       0   \n",
       "997                         5.10908  2020-06-23      0.0000       0   \n",
       "998                       177.32665  2020-06-23      0.0690       2   \n",
       "999                        25.25040  2020-06-23      0.0000       0   \n",
       "\n",
       "     estimated_population_2019  is_last  order_for_place place_type state  \n",
       "0                     881935.0     True               99      state    AC  \n",
       "1                    3337357.0     True              104      state    AL  \n",
       "2                      16041.0     True               51       city    AM  \n",
       "3                      11536.0     True               61       city    AM  \n",
       "4                      13614.0     True               71       city    AM  \n",
       "..                         ...      ...              ...        ...   ...  \n",
       "995                     3641.0     True               60       city    MG  \n",
       "996                     3002.0     True                4       city    MG  \n",
       "997                    19573.0     True               13       city    MG  \n",
       "998                    16354.0     True               53       city    MG  \n",
       "999                    23762.0     True               35       city    MG  \n",
       "\n",
       "[1000 rows x 12 columns]"
      ]
     },
     "execution_count": 99,
     "metadata": {},
     "output_type": "execute_result"
    }
   ],
   "source": [
    "pd.DataFrame.from_dict(data['results'])"
   ]
  }
 ],
 "metadata": {
  "kernelspec": {
   "display_name": "Python 3",
   "language": "python",
   "name": "python3"
  },
  "language_info": {
   "codemirror_mode": {
    "name": "ipython",
    "version": 3
   },
   "file_extension": ".py",
   "mimetype": "text/x-python",
   "name": "python",
   "nbconvert_exporter": "python",
   "pygments_lexer": "ipython3",
   "version": "3.8.2"
  }
 },
 "nbformat": 4,
 "nbformat_minor": 4
}
