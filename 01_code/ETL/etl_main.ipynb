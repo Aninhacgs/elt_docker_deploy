{
 "cells": [
  {
   "cell_type": "markdown",
   "metadata": {
    "scrolled": true
   },
   "source": [
    "!pip install requests"
   ]
  },
  {
   "cell_type": "markdown",
   "metadata": {
    "scrolled": true
   },
   "source": [
    "!pip install pandas"
   ]
  },
  {
   "cell_type": "markdown",
   "metadata": {},
   "source": [
    "##### Importando libs"
   ]
  },
  {
   "cell_type": "code",
   "execution_count": 88,
   "metadata": {},
   "outputs": [],
   "source": [
    "import pandas as pd\n",
    "import requests\n",
    "import json\n",
    "import math\n",
    "import os\n",
    "import re"
   ]
  },
  {
   "cell_type": "code",
   "execution_count": 89,
   "metadata": {},
   "outputs": [],
   "source": [
    "from json import JSONDecodeError"
   ]
  },
  {
   "cell_type": "markdown",
   "metadata": {},
   "source": [
    "##### Definindo parâmetros da chamada"
   ]
  },
  {
   "cell_type": "code",
   "execution_count": 90,
   "metadata": {},
   "outputs": [],
   "source": [
    "payload = {}\n",
    "headers = {'Cookie': ''}"
   ]
  },
  {
   "cell_type": "markdown",
   "metadata": {},
   "source": [
    "##### Definindo url e enviando chamada"
   ]
  },
  {
   "cell_type": "code",
   "execution_count": 91,
   "metadata": {},
   "outputs": [],
   "source": [
    "url_raw = \"https://brasil.io/api/dataset/covid19/caso_full/data/?page=\"\n",
    "url_base = \"https://brasil.io/api/dataset/covid19/caso_full/data/?page=1\"\n",
    "response_url_base = requests.request(\"GET\", url_base, headers=headers, data = payload)"
   ]
  },
  {
   "cell_type": "markdown",
   "metadata": {},
   "source": [
    "### Carregando o resultado da chamada\n",
    "##### A disponibilidade do link é sempre verificada "
   ]
  },
  {
   "cell_type": "code",
   "execution_count": 92,
   "metadata": {},
   "outputs": [],
   "source": [
    "data = json.loads(response_url_base.text.encode('utf8').decode('utf8')) \\\n",
    "    if response_url_base.status_code == 200 \\\n",
    "        else print('Escrever Log')"
   ]
  },
  {
   "cell_type": "markdown",
   "metadata": {},
   "source": [
    "### Como há paginação da API e os dados crescem a cada dia, foi adicionado um um variável verificadora do link \"final\" da API"
   ]
  },
  {
   "cell_type": "code",
   "execution_count": 93,
   "metadata": {
    "scrolled": true
   },
   "outputs": [
    {
     "name": "stdout",
     "output_type": "stream",
     "text": [
      "https://brasil.io/api/dataset/covid19/caso_full/data/?page=274\n"
     ]
    }
   ],
   "source": [
    "page_final = math.ceil(data['count']/len(data['results']))\n",
    "\n",
    "url_final = \"https://brasil.io/api/dataset/covid19/caso_full/data/?page=\" + str(page_final) + \"\"\n",
    "\n",
    "print(url_final)"
   ]
  },
  {
   "cell_type": "code",
   "execution_count": 94,
   "metadata": {},
   "outputs": [
    {
     "data": {
      "text/plain": [
       "('https://brasil.io/api/dataset/covid19/caso_full/data/?page=2', None)"
      ]
     },
     "execution_count": 94,
     "metadata": {},
     "output_type": "execute_result"
    }
   ],
   "source": [
    "data['next'], data['previous']"
   ]
  },
  {
   "cell_type": "code",
   "execution_count": 95,
   "metadata": {
    "scrolled": true
   },
   "outputs": [
    {
     "data": {
      "text/plain": [
       "(None, 'https://brasil.io/api/dataset/covid19/caso_full/data/?page=273')"
      ]
     },
     "execution_count": 95,
     "metadata": {},
     "output_type": "execute_result"
    }
   ],
   "source": [
    "response_url_final = requests.request(\"GET\", url_final, headers=headers, data = payload)\n",
    "data_final = json.loads(response_url_final.text.encode('utf8').decode('utf8'))\n",
    "data_final['next'], data_final['previous']"
   ]
  },
  {
   "cell_type": "markdown",
   "metadata": {},
   "source": [
    "### Salvando o resultado da requisição em formato csv, na qual estava em formato json\n",
    "##### O arquivo apenas será salve caso ele não exista"
   ]
  },
  {
   "cell_type": "code",
   "execution_count": 96,
   "metadata": {},
   "outputs": [
    {
     "name": "stdout",
     "output_type": "stream",
     "text": [
      "DataFrame já carregado\n"
     ]
    }
   ],
   "source": [
    "pd.DataFrame.from_dict(data['results'])\\\n",
    "    .to_csv(os.getcwd() + '\\\\DataFrame\\\\01_RAW\\\\' + re.sub('[^a-zA-Z0-9 \\n\\.]', '_', url_base) + '.csv', index = False) \\\n",
    "        if not re.sub('[^a-zA-Z0-9 \\n\\.]', '_', url_base) + '.csv' in os.listdir(path = os.getcwd() + '\\\\DataFrame\\\\01_raw') \\\n",
    "            else  print('DataFrame já carregado')"
   ]
  },
  {
   "cell_type": "code",
   "execution_count": 97,
   "metadata": {},
   "outputs": [],
   "source": [
    "link_num = 0\n",
    "link_num_begin = 0\n",
    "link_num_end = 10"
   ]
  },
  {
   "cell_type": "code",
   "execution_count": 98,
   "metadata": {
    "scrolled": true
   },
   "outputs": [
    {
     "name": "stdout",
     "output_type": "stream",
     "text": [
      "DataFrame já carregado\n",
      "DataFrame já carregado\n",
      "DataFrame já carregado\n",
      "DataFrame já carregado\n",
      "DataFrame já carregado\n",
      "DataFrame já carregado\n",
      "DataFrame já carregado\n",
      "DataFrame já carregado\n",
      "DataFrame já carregado\n",
      "DataFrame já carregado\n",
      "Execução Terminada\n"
     ]
    }
   ],
   "source": [
    "try:\n",
    "    while link_num_begin < link_num_end:\n",
    "        for link_num in range(1, page_final + 1):\n",
    "\n",
    "            if re.sub('[^a-zA-Z0-9 \\n\\.]', '_', url_raw + str(link_num)) + '.csv' in os.listdir(path = os.getcwd() + '\\\\DataFrame\\\\01_raw'):\n",
    "                print('DataFrame já carregado', end = '\\n')\n",
    "            else:\n",
    "                response_url_link_num = requests.request(\"GET\", url_raw + str(link_num), headers=headers, data = payload)\n",
    "                data_link_num = json.loads(response_url_link_num.text.encode('utf8').decode('utf8')) if response_url_link_num.status_code == 200 else print('Escrever Log')\n",
    "\n",
    "                print(url_raw + str(link_num))\n",
    "\n",
    "                pd.DataFrame.from_dict(data_link_num['results'])\\\n",
    "                    .to_csv(os.getcwd() + '\\\\DataFrame\\\\01_raw\\\\' + re.sub('[^a-zA-Z0-9 \\n\\.]', '_', url_raw + str(link_num)) + '.csv', index = False) \\\n",
    "                        if not re.sub('[^a-zA-Z0-9 \\n\\.]', '_', url_raw + str(link_num)) + '.csv' in os.listdir(path = os.getcwd() + '\\\\DataFrame\\\\01_raw') else \\\n",
    "                            print('DataFrame já carregado', end = '\\n\\n')\n",
    "\n",
    "            link_num_begin = link_num_begin + 1\n",
    "\n",
    "            if link_num_begin == link_num_end:\n",
    "                break\n",
    "                \n",
    "except(TypeError, ConnectionError, JSONDecodeError, ConnectTimeout, HTTPError, ReadTimeout, Timeout, requests.exceptions.RequestException):\n",
    "    pass\n",
    "\n",
    "finally:\n",
    "    print('Execução Terminada')"
   ]
  },
  {
   "cell_type": "markdown",
   "metadata": {},
   "source": [
    "### Caso de uso tendo coomo base a url final"
   ]
  },
  {
   "cell_type": "code",
   "execution_count": 99,
   "metadata": {},
   "outputs": [
    {
     "name": "stdout",
     "output_type": "stream",
     "text": [
      "DataFrame já carregado\n",
      "DataFrame já carregado\n",
      "Execução Terminada\n"
     ]
    }
   ],
   "source": [
    "data_link = ''\n",
    "\n",
    "try:\n",
    "    while data_link != None:\n",
    "        for link_num in range(page_final - 1, page_final + 1):\n",
    "\n",
    "            if re.sub('[^a-zA-Z0-9 \\n\\.]', '_', url_raw + str(link_num)) + '.csv' in os.listdir(path = os.getcwd() + '\\\\DataFrame\\\\01_raw'):\n",
    "                print('DataFrame já carregado', end = '\\n')\n",
    "                \n",
    "                response_url_link_num = requests.request(\"GET\", url_raw + str(link_num), headers=headers, data = payload)\n",
    "                data_link_num = json.loads(response_url_link_num.text.encode('utf8').decode('utf8')) if response_url_link_num.status_code == 200 else print('Escrever Log')\n",
    "                data_link = data_link_num['next']\n",
    "                \n",
    "\n",
    "            else:\n",
    "                response_url_link_num = requests.request(\"GET\", url_raw + str(link_num), headers=headers, data = payload)\n",
    "                data_link_num = json.loads(response_url_link_num.text.encode('utf8').decode('utf8')) if response_url_link_num.status_code == 200 else print('Escrever Log')\n",
    "                data_link = data_link_num['next']\n",
    "                \n",
    "                print(url_raw + str(link_num))\n",
    "\n",
    "                pd.DataFrame.from_dict(data_link_num['results'])\\\n",
    "                    .to_csv(os.getcwd() + '\\\\DataFrame\\\\01_raw\\\\' + re.sub('[^a-zA-Z0-9 \\n\\.]', '_', url_raw + str(link_num)) + '.csv', index = False) \\\n",
    "                        if not re.sub('[^a-zA-Z0-9 \\n\\.]', '_', url_raw + str(link_num)) + '.csv' in os.listdir(path = os.getcwd() + '\\\\DataFrame\\\\01_raw') else \\\n",
    "                            print('DataFrame já carregado', end = '\\n\\n')\n",
    "\n",
    "\n",
    "                if data_link_num['next'] == None:\n",
    "                    break\n",
    "                \n",
    "except(TypeError, ConnectionError, JSONDecodeError, ConnectTimeout, HTTPError, ReadTimeout, Timeout, requests.exceptions.RequestException):\n",
    "    pass\n",
    "\n",
    "finally:\n",
    "    print('Execução Terminada')"
   ]
  },
  {
   "cell_type": "code",
   "execution_count": 100,
   "metadata": {
    "scrolled": false
   },
   "outputs": [
    {
     "data": {
      "text/plain": [
       "True"
      ]
     },
     "execution_count": 100,
     "metadata": {},
     "output_type": "execute_result"
    }
   ],
   "source": [
    "data_link is None"
   ]
  },
  {
   "cell_type": "markdown",
   "metadata": {},
   "source": [
    "### "
   ]
  },
  {
   "cell_type": "markdown",
   "metadata": {},
   "source": [
    "##### Crição de uma lista ordenada dos arquivos csv salvos na raw"
   ]
  },
  {
   "cell_type": "code",
   "execution_count": 159,
   "metadata": {},
   "outputs": [],
   "source": [
    "maindir = os.getcwd()\n",
    "search_dir = os.getcwd() + '\\\\DataFrame\\\\01_raw'\n",
    "os.chdir(search_dir)\n",
    "\n",
    "files = filter(os.path.isfile, os.listdir(search_dir)) #selecionando apenas arquivos\n",
    "files = [os.path.join(search_dir, f) for f in files] #adiciona o diretório completo em uma lista\n",
    "files.sort(key=lambda x: os.path.getmtime(x)) #ordernacao por ondem de data/hora\n",
    "files = [f.replace(search_dir + '\\\\', '') for f in files] \n",
    "\n",
    "os.chdir(maindir)"
   ]
  },
  {
   "cell_type": "code",
   "execution_count": 160,
   "metadata": {},
   "outputs": [],
   "source": [
    "norm = lambda y: y.replace('.csv', '').replace('.', '_')"
   ]
  },
  {
   "cell_type": "code",
   "execution_count": 168,
   "metadata": {
    "scrolled": true
   },
   "outputs": [],
   "source": [
    "tabelas = {}\n",
    "\n",
    "for x in range(files.index(files[0]), (files.index(files[-1]) + 1)):\n",
    "\n",
    "    tabelas['' + files[x].replace('.csv', '') + ''] = pd.read_csv(search_dir + '\\\\' + files[x], delimiter=',')\n",
    "\n",
    "files2order = [f.replace('.csv', '') for f in files]\n",
    "\n",
    "for key in files2order:\n",
    "    tabelas[key] = tabelas.pop(key)\n",
    "    \n",
    "for key_rename in list(tabelas):\n",
    "    tabelas[key_rename.replace('.', '_')] = tabelas.pop(key_rename)\n",
    "    \n",
    "locals().update(tabelas) #transformando valores do dicionário em variáveis locais"
   ]
  },
  {
   "cell_type": "markdown",
   "metadata": {},
   "source": [
    "___________________________________________________________________________________________________________________________"
   ]
  },
  {
   "cell_type": "code",
   "execution_count": 187,
   "metadata": {
    "scrolled": true
   },
   "outputs": [
    {
     "data": {
      "text/html": [
       "<div>\n",
       "<style scoped>\n",
       "    .dataframe tbody tr th:only-of-type {\n",
       "        vertical-align: middle;\n",
       "    }\n",
       "\n",
       "    .dataframe tbody tr th {\n",
       "        vertical-align: top;\n",
       "    }\n",
       "\n",
       "    .dataframe thead th {\n",
       "        text-align: right;\n",
       "    }\n",
       "</style>\n",
       "<table border=\"1\" class=\"dataframe\">\n",
       "  <thead>\n",
       "    <tr style=\"text-align: right;\">\n",
       "      <th></th>\n",
       "      <th>city</th>\n",
       "      <th>city_ibge_code</th>\n",
       "      <th>date</th>\n",
       "      <th>epidemiological_week</th>\n",
       "      <th>estimated_population_2019</th>\n",
       "      <th>is_last</th>\n",
       "      <th>is_repeated</th>\n",
       "      <th>last_available_confirmed</th>\n",
       "      <th>last_available_confirmed_per_100k_inhabitants</th>\n",
       "      <th>last_available_date</th>\n",
       "      <th>last_available_death_rate</th>\n",
       "      <th>last_available_deaths</th>\n",
       "      <th>new_confirmed</th>\n",
       "      <th>new_deaths</th>\n",
       "      <th>order_for_place</th>\n",
       "      <th>place_type</th>\n",
       "      <th>state</th>\n",
       "    </tr>\n",
       "  </thead>\n",
       "  <tbody>\n",
       "    <tr>\n",
       "      <th>0</th>\n",
       "      <td>Umuarama</td>\n",
       "      <td>4128104.0</td>\n",
       "      <td>2020-03-21</td>\n",
       "      <td>12</td>\n",
       "      <td>111557.0</td>\n",
       "      <td>False</td>\n",
       "      <td>False</td>\n",
       "      <td>1</td>\n",
       "      <td>0.89640</td>\n",
       "      <td>2020-03-21</td>\n",
       "      <td>0.0</td>\n",
       "      <td>0</td>\n",
       "      <td>1</td>\n",
       "      <td>0</td>\n",
       "      <td>1</td>\n",
       "      <td>city</td>\n",
       "      <td>PR</td>\n",
       "    </tr>\n",
       "    <tr>\n",
       "      <th>1</th>\n",
       "      <td>NaN</td>\n",
       "      <td>41.0</td>\n",
       "      <td>2020-03-21</td>\n",
       "      <td>12</td>\n",
       "      <td>11433957.0</td>\n",
       "      <td>False</td>\n",
       "      <td>False</td>\n",
       "      <td>43</td>\n",
       "      <td>0.37607</td>\n",
       "      <td>2020-03-21</td>\n",
       "      <td>0.0</td>\n",
       "      <td>0</td>\n",
       "      <td>7</td>\n",
       "      <td>0</td>\n",
       "      <td>10</td>\n",
       "      <td>state</td>\n",
       "      <td>PR</td>\n",
       "    </tr>\n",
       "    <tr>\n",
       "      <th>2</th>\n",
       "      <td>Barra Mansa</td>\n",
       "      <td>3300407.0</td>\n",
       "      <td>2020-03-21</td>\n",
       "      <td>12</td>\n",
       "      <td>184412.0</td>\n",
       "      <td>False</td>\n",
       "      <td>False</td>\n",
       "      <td>1</td>\n",
       "      <td>0.54226</td>\n",
       "      <td>2020-03-21</td>\n",
       "      <td>0.0</td>\n",
       "      <td>0</td>\n",
       "      <td>0</td>\n",
       "      <td>0</td>\n",
       "      <td>17</td>\n",
       "      <td>city</td>\n",
       "      <td>RJ</td>\n",
       "    </tr>\n",
       "    <tr>\n",
       "      <th>3</th>\n",
       "      <td>Guapimirim</td>\n",
       "      <td>3301850.0</td>\n",
       "      <td>2020-03-21</td>\n",
       "      <td>12</td>\n",
       "      <td>60517.0</td>\n",
       "      <td>False</td>\n",
       "      <td>False</td>\n",
       "      <td>1</td>\n",
       "      <td>1.65243</td>\n",
       "      <td>2020-03-21</td>\n",
       "      <td>0.0</td>\n",
       "      <td>0</td>\n",
       "      <td>0</td>\n",
       "      <td>0</td>\n",
       "      <td>4</td>\n",
       "      <td>city</td>\n",
       "      <td>RJ</td>\n",
       "    </tr>\n",
       "    <tr>\n",
       "      <th>4</th>\n",
       "      <td>Importados/Indefinidos</td>\n",
       "      <td>NaN</td>\n",
       "      <td>2020-03-21</td>\n",
       "      <td>12</td>\n",
       "      <td>NaN</td>\n",
       "      <td>False</td>\n",
       "      <td>False</td>\n",
       "      <td>4</td>\n",
       "      <td>NaN</td>\n",
       "      <td>2020-03-21</td>\n",
       "      <td>0.0</td>\n",
       "      <td>0</td>\n",
       "      <td>4</td>\n",
       "      <td>0</td>\n",
       "      <td>1</td>\n",
       "      <td>city</td>\n",
       "      <td>RJ</td>\n",
       "    </tr>\n",
       "  </tbody>\n",
       "</table>\n",
       "</div>"
      ],
      "text/plain": [
       "                     city  city_ibge_code        date  epidemiological_week  \\\n",
       "0                Umuarama       4128104.0  2020-03-21                    12   \n",
       "1                     NaN            41.0  2020-03-21                    12   \n",
       "2             Barra Mansa       3300407.0  2020-03-21                    12   \n",
       "3              Guapimirim       3301850.0  2020-03-21                    12   \n",
       "4  Importados/Indefinidos             NaN  2020-03-21                    12   \n",
       "\n",
       "   estimated_population_2019  is_last  is_repeated  last_available_confirmed  \\\n",
       "0                   111557.0    False        False                         1   \n",
       "1                 11433957.0    False        False                        43   \n",
       "2                   184412.0    False        False                         1   \n",
       "3                    60517.0    False        False                         1   \n",
       "4                        NaN    False        False                         4   \n",
       "\n",
       "   last_available_confirmed_per_100k_inhabitants last_available_date  \\\n",
       "0                                        0.89640          2020-03-21   \n",
       "1                                        0.37607          2020-03-21   \n",
       "2                                        0.54226          2020-03-21   \n",
       "3                                        1.65243          2020-03-21   \n",
       "4                                            NaN          2020-03-21   \n",
       "\n",
       "   last_available_death_rate  last_available_deaths  new_confirmed  \\\n",
       "0                        0.0                      0              1   \n",
       "1                        0.0                      0              7   \n",
       "2                        0.0                      0              0   \n",
       "3                        0.0                      0              0   \n",
       "4                        0.0                      0              4   \n",
       "\n",
       "   new_deaths  order_for_place place_type state  \n",
       "0           0                1       city    PR  \n",
       "1           0               10      state    PR  \n",
       "2           0               17       city    RJ  \n",
       "3           0                4       city    RJ  \n",
       "4           0                1       city    RJ  "
      ]
     },
     "execution_count": 187,
     "metadata": {},
     "output_type": "execute_result"
    }
   ],
   "source": [
    "https___brasil_io_api_dataset_covid19_caso_full_data__page_274.head()"
   ]
  },
  {
   "cell_type": "markdown",
   "metadata": {},
   "source": [
    "### Dividir por estados"
   ]
  },
  {
   "cell_type": "code",
   "execution_count": null,
   "metadata": {},
   "outputs": [],
   "source": []
  },
  {
   "cell_type": "markdown",
   "metadata": {},
   "source": [
    "dash.plotly.com\n",
    "\n",
    "elt_main.py\n",
    "\n",
    "show_df.py"
   ]
  }
 ],
 "metadata": {
  "kernelspec": {
   "display_name": "Python 3",
   "language": "python",
   "name": "python3"
  },
  "language_info": {
   "codemirror_mode": {
    "name": "ipython",
    "version": 3
   },
   "file_extension": ".py",
   "mimetype": "text/x-python",
   "name": "python",
   "nbconvert_exporter": "python",
   "pygments_lexer": "ipython3",
   "version": "3.8.2"
  }
 },
 "nbformat": 4,
 "nbformat_minor": 4
}
