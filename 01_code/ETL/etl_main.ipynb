{
 "cells": [
  {
   "cell_type": "code",
   "execution_count": 1,
   "metadata": {
    "scrolled": true
   },
   "outputs": [
    {
     "name": "stdout",
     "output_type": "stream",
     "text": [
      "Requirement already satisfied: requests in c:\\python\\lib\\site-packages (2.24.0)\n",
      "Requirement already satisfied: idna<3,>=2.5 in c:\\python\\lib\\site-packages (from requests) (2.9)\n",
      "Requirement already satisfied: chardet<4,>=3.0.2 in c:\\python\\lib\\site-packages (from requests) (3.0.4)\n",
      "Requirement already satisfied: certifi>=2017.4.17 in c:\\python\\lib\\site-packages (from requests) (2020.6.20)\n",
      "Requirement already satisfied: urllib3!=1.25.0,!=1.25.1,<1.26,>=1.21.1 in c:\\python\\lib\\site-packages (from requests) (1.25.9)\n"
     ]
    }
   ],
   "source": [
    "!pip install requests"
   ]
  },
  {
   "cell_type": "code",
   "execution_count": 2,
   "metadata": {
    "scrolled": true
   },
   "outputs": [
    {
     "name": "stdout",
     "output_type": "stream",
     "text": [
      "Requirement already satisfied: pandas in c:\\python\\lib\\site-packages (1.0.5)\n",
      "Requirement already satisfied: python-dateutil>=2.6.1 in c:\\python\\lib\\site-packages (from pandas) (2.8.1)\n",
      "Requirement already satisfied: numpy>=1.13.3 in c:\\python\\lib\\site-packages (from pandas) (1.19.0)\n",
      "Requirement already satisfied: pytz>=2017.2 in c:\\python\\lib\\site-packages (from pandas) (2020.1)\n",
      "Requirement already satisfied: six>=1.5 in c:\\python\\lib\\site-packages (from python-dateutil>=2.6.1->pandas) (1.14.0)\n"
     ]
    }
   ],
   "source": [
    "!pip install pandas"
   ]
  },
  {
   "cell_type": "code",
   "execution_count": 3,
   "metadata": {},
   "outputs": [],
   "source": [
    "import pandas as pd\n",
    "import requests\n",
    "import json"
   ]
  },
  {
   "cell_type": "code",
   "execution_count": 4,
   "metadata": {
    "scrolled": true
   },
   "outputs": [],
   "source": [
    "#url = \"https://brasil.io/api/dataset/covid19/caso_full/data/\"\n",
    "url = \"https://brasil.io/api/dataset/covid19/caso_full/data/?page=2\"\n",
    "\n",
    "payload = {}\n",
    "headers = {\n",
    "  'Cookie': ''\n",
    "}\n",
    "\n",
    "response = requests.request(\"GET\", url, headers=headers, data = payload)"
   ]
  },
  {
   "cell_type": "code",
   "execution_count": 5,
   "metadata": {
    "scrolled": false
   },
   "outputs": [],
   "source": [
    "data = json.loads(response.text.encode('utf8').decode('utf8')) if response.status_code == 200 else print('Escrever Log')"
   ]
  },
  {
   "cell_type": "code",
   "execution_count": 6,
   "metadata": {
    "scrolled": false
   },
   "outputs": [
    {
     "data": {
      "text/plain": [
       "dict_keys(['city', 'city_ibge_code', 'date', 'epidemiological_week', 'estimated_population_2019', 'is_last', 'is_repeated', 'last_available_confirmed', 'last_available_confirmed_per_100k_inhabitants', 'last_available_date', 'last_available_death_rate', 'last_available_deaths', 'new_confirmed', 'new_deaths', 'order_for_place', 'place_type', 'state'])"
      ]
     },
     "execution_count": 6,
     "metadata": {},
     "output_type": "execute_result"
    }
   ],
   "source": [
    "data['results'][0].keys()"
   ]
  },
  {
   "cell_type": "code",
   "execution_count": 7,
   "metadata": {
    "scrolled": true
   },
   "outputs": [
    {
     "data": {
      "text/plain": [
       "17"
      ]
     },
     "execution_count": 7,
     "metadata": {},
     "output_type": "execute_result"
    }
   ],
   "source": [
    "len(data['results'][0].keys())"
   ]
  },
  {
   "cell_type": "code",
   "execution_count": 8,
   "metadata": {},
   "outputs": [
    {
     "data": {
      "text/plain": [
       "{'city': 'Paraúna',\n",
       " 'city_ibge_code': 5216403,\n",
       " 'date': '2020-06-20',\n",
       " 'epidemiological_week': 25,\n",
       " 'estimated_population_2019': 10988,\n",
       " 'is_last': True,\n",
       " 'is_repeated': False,\n",
       " 'last_available_confirmed': 17,\n",
       " 'last_available_confirmed_per_100k_inhabitants': 154.71423,\n",
       " 'last_available_date': '2020-06-20',\n",
       " 'last_available_death_rate': 0.1176,\n",
       " 'last_available_deaths': 2,\n",
       " 'new_confirmed': 0,\n",
       " 'new_deaths': 0,\n",
       " 'order_for_place': 69,\n",
       " 'place_type': 'city',\n",
       " 'state': 'GO'}"
      ]
     },
     "execution_count": 8,
     "metadata": {},
     "output_type": "execute_result"
    }
   ],
   "source": [
    "data['results'][0]"
   ]
  },
  {
   "cell_type": "code",
   "execution_count": 9,
   "metadata": {
    "scrolled": true
   },
   "outputs": [
    {
     "data": {
      "text/html": [
       "<div>\n",
       "<style scoped>\n",
       "    .dataframe tbody tr th:only-of-type {\n",
       "        vertical-align: middle;\n",
       "    }\n",
       "\n",
       "    .dataframe tbody tr th {\n",
       "        vertical-align: top;\n",
       "    }\n",
       "\n",
       "    .dataframe thead th {\n",
       "        text-align: right;\n",
       "    }\n",
       "</style>\n",
       "<table border=\"1\" class=\"dataframe\">\n",
       "  <thead>\n",
       "    <tr style=\"text-align: right;\">\n",
       "      <th></th>\n",
       "      <th>city</th>\n",
       "      <th>city_ibge_code</th>\n",
       "      <th>date</th>\n",
       "      <th>epidemiological_week</th>\n",
       "      <th>estimated_population_2019</th>\n",
       "      <th>is_last</th>\n",
       "      <th>is_repeated</th>\n",
       "      <th>last_available_confirmed</th>\n",
       "      <th>last_available_confirmed_per_100k_inhabitants</th>\n",
       "      <th>last_available_date</th>\n",
       "      <th>last_available_death_rate</th>\n",
       "      <th>last_available_deaths</th>\n",
       "      <th>new_confirmed</th>\n",
       "      <th>new_deaths</th>\n",
       "      <th>order_for_place</th>\n",
       "      <th>place_type</th>\n",
       "      <th>state</th>\n",
       "    </tr>\n",
       "  </thead>\n",
       "  <tbody>\n",
       "    <tr>\n",
       "      <th>0</th>\n",
       "      <td>Paraúna</td>\n",
       "      <td>5216403.0</td>\n",
       "      <td>2020-06-20</td>\n",
       "      <td>25</td>\n",
       "      <td>10988.0</td>\n",
       "      <td>True</td>\n",
       "      <td>False</td>\n",
       "      <td>17</td>\n",
       "      <td>154.71423</td>\n",
       "      <td>2020-06-20</td>\n",
       "      <td>0.1176</td>\n",
       "      <td>2</td>\n",
       "      <td>0</td>\n",
       "      <td>0</td>\n",
       "      <td>69</td>\n",
       "      <td>city</td>\n",
       "      <td>GO</td>\n",
       "    </tr>\n",
       "    <tr>\n",
       "      <th>1</th>\n",
       "      <td>Perolândia</td>\n",
       "      <td>5216452.0</td>\n",
       "      <td>2020-06-20</td>\n",
       "      <td>25</td>\n",
       "      <td>3129.0</td>\n",
       "      <td>True</td>\n",
       "      <td>False</td>\n",
       "      <td>1</td>\n",
       "      <td>31.95909</td>\n",
       "      <td>2020-06-20</td>\n",
       "      <td>0.0000</td>\n",
       "      <td>0</td>\n",
       "      <td>0</td>\n",
       "      <td>0</td>\n",
       "      <td>3</td>\n",
       "      <td>city</td>\n",
       "      <td>GO</td>\n",
       "    </tr>\n",
       "    <tr>\n",
       "      <th>2</th>\n",
       "      <td>Petrolina de Goiás</td>\n",
       "      <td>5216809.0</td>\n",
       "      <td>2020-06-20</td>\n",
       "      <td>25</td>\n",
       "      <td>10281.0</td>\n",
       "      <td>True</td>\n",
       "      <td>False</td>\n",
       "      <td>1</td>\n",
       "      <td>9.72668</td>\n",
       "      <td>2020-06-20</td>\n",
       "      <td>0.0000</td>\n",
       "      <td>0</td>\n",
       "      <td>0</td>\n",
       "      <td>0</td>\n",
       "      <td>2</td>\n",
       "      <td>city</td>\n",
       "      <td>GO</td>\n",
       "    </tr>\n",
       "    <tr>\n",
       "      <th>3</th>\n",
       "      <td>Piracanjuba</td>\n",
       "      <td>5217104.0</td>\n",
       "      <td>2020-06-20</td>\n",
       "      <td>25</td>\n",
       "      <td>24524.0</td>\n",
       "      <td>True</td>\n",
       "      <td>False</td>\n",
       "      <td>26</td>\n",
       "      <td>106.01859</td>\n",
       "      <td>2020-06-20</td>\n",
       "      <td>0.0385</td>\n",
       "      <td>1</td>\n",
       "      <td>0</td>\n",
       "      <td>0</td>\n",
       "      <td>45</td>\n",
       "      <td>city</td>\n",
       "      <td>GO</td>\n",
       "    </tr>\n",
       "    <tr>\n",
       "      <th>4</th>\n",
       "      <td>Piranhas</td>\n",
       "      <td>5217203.0</td>\n",
       "      <td>2020-06-20</td>\n",
       "      <td>25</td>\n",
       "      <td>10385.0</td>\n",
       "      <td>True</td>\n",
       "      <td>False</td>\n",
       "      <td>9</td>\n",
       "      <td>86.66346</td>\n",
       "      <td>2020-06-20</td>\n",
       "      <td>0.0000</td>\n",
       "      <td>0</td>\n",
       "      <td>0</td>\n",
       "      <td>0</td>\n",
       "      <td>30</td>\n",
       "      <td>city</td>\n",
       "      <td>GO</td>\n",
       "    </tr>\n",
       "    <tr>\n",
       "      <th>...</th>\n",
       "      <td>...</td>\n",
       "      <td>...</td>\n",
       "      <td>...</td>\n",
       "      <td>...</td>\n",
       "      <td>...</td>\n",
       "      <td>...</td>\n",
       "      <td>...</td>\n",
       "      <td>...</td>\n",
       "      <td>...</td>\n",
       "      <td>...</td>\n",
       "      <td>...</td>\n",
       "      <td>...</td>\n",
       "      <td>...</td>\n",
       "      <td>...</td>\n",
       "      <td>...</td>\n",
       "      <td>...</td>\n",
       "      <td>...</td>\n",
       "    </tr>\n",
       "    <tr>\n",
       "      <th>995</th>\n",
       "      <td>Confresa</td>\n",
       "      <td>5103353.0</td>\n",
       "      <td>2020-06-20</td>\n",
       "      <td>25</td>\n",
       "      <td>30933.0</td>\n",
       "      <td>True</td>\n",
       "      <td>False</td>\n",
       "      <td>270</td>\n",
       "      <td>872.85423</td>\n",
       "      <td>2020-06-20</td>\n",
       "      <td>0.0185</td>\n",
       "      <td>5</td>\n",
       "      <td>4</td>\n",
       "      <td>0</td>\n",
       "      <td>59</td>\n",
       "      <td>city</td>\n",
       "      <td>MT</td>\n",
       "    </tr>\n",
       "    <tr>\n",
       "      <th>996</th>\n",
       "      <td>Conquista D'Oeste</td>\n",
       "      <td>5103361.0</td>\n",
       "      <td>2020-06-20</td>\n",
       "      <td>25</td>\n",
       "      <td>4038.0</td>\n",
       "      <td>True</td>\n",
       "      <td>False</td>\n",
       "      <td>8</td>\n",
       "      <td>198.11788</td>\n",
       "      <td>2020-06-20</td>\n",
       "      <td>0.0000</td>\n",
       "      <td>0</td>\n",
       "      <td>0</td>\n",
       "      <td>0</td>\n",
       "      <td>67</td>\n",
       "      <td>city</td>\n",
       "      <td>MT</td>\n",
       "    </tr>\n",
       "    <tr>\n",
       "      <th>997</th>\n",
       "      <td>Cotriguaçu</td>\n",
       "      <td>5103379.0</td>\n",
       "      <td>2020-06-20</td>\n",
       "      <td>25</td>\n",
       "      <td>19750.0</td>\n",
       "      <td>True</td>\n",
       "      <td>False</td>\n",
       "      <td>8</td>\n",
       "      <td>40.50633</td>\n",
       "      <td>2020-06-20</td>\n",
       "      <td>0.1250</td>\n",
       "      <td>1</td>\n",
       "      <td>0</td>\n",
       "      <td>0</td>\n",
       "      <td>44</td>\n",
       "      <td>city</td>\n",
       "      <td>MT</td>\n",
       "    </tr>\n",
       "    <tr>\n",
       "      <th>998</th>\n",
       "      <td>Cuiabá</td>\n",
       "      <td>5103403.0</td>\n",
       "      <td>2020-06-20</td>\n",
       "      <td>25</td>\n",
       "      <td>612547.0</td>\n",
       "      <td>True</td>\n",
       "      <td>False</td>\n",
       "      <td>2402</td>\n",
       "      <td>392.13318</td>\n",
       "      <td>2020-06-20</td>\n",
       "      <td>0.0396</td>\n",
       "      <td>95</td>\n",
       "      <td>161</td>\n",
       "      <td>7</td>\n",
       "      <td>93</td>\n",
       "      <td>city</td>\n",
       "      <td>MT</td>\n",
       "    </tr>\n",
       "    <tr>\n",
       "      <th>999</th>\n",
       "      <td>Curvelândia</td>\n",
       "      <td>5103437.0</td>\n",
       "      <td>2020-06-20</td>\n",
       "      <td>25</td>\n",
       "      <td>5219.0</td>\n",
       "      <td>True</td>\n",
       "      <td>False</td>\n",
       "      <td>10</td>\n",
       "      <td>191.60759</td>\n",
       "      <td>2020-06-20</td>\n",
       "      <td>0.1000</td>\n",
       "      <td>1</td>\n",
       "      <td>2</td>\n",
       "      <td>0</td>\n",
       "      <td>51</td>\n",
       "      <td>city</td>\n",
       "      <td>MT</td>\n",
       "    </tr>\n",
       "  </tbody>\n",
       "</table>\n",
       "<p>1000 rows × 17 columns</p>\n",
       "</div>"
      ],
      "text/plain": [
       "                   city  city_ibge_code        date  epidemiological_week  \\\n",
       "0               Paraúna       5216403.0  2020-06-20                    25   \n",
       "1            Perolândia       5216452.0  2020-06-20                    25   \n",
       "2    Petrolina de Goiás       5216809.0  2020-06-20                    25   \n",
       "3           Piracanjuba       5217104.0  2020-06-20                    25   \n",
       "4              Piranhas       5217203.0  2020-06-20                    25   \n",
       "..                  ...             ...         ...                   ...   \n",
       "995            Confresa       5103353.0  2020-06-20                    25   \n",
       "996   Conquista D'Oeste       5103361.0  2020-06-20                    25   \n",
       "997          Cotriguaçu       5103379.0  2020-06-20                    25   \n",
       "998              Cuiabá       5103403.0  2020-06-20                    25   \n",
       "999         Curvelândia       5103437.0  2020-06-20                    25   \n",
       "\n",
       "     estimated_population_2019  is_last  is_repeated  \\\n",
       "0                      10988.0     True        False   \n",
       "1                       3129.0     True        False   \n",
       "2                      10281.0     True        False   \n",
       "3                      24524.0     True        False   \n",
       "4                      10385.0     True        False   \n",
       "..                         ...      ...          ...   \n",
       "995                    30933.0     True        False   \n",
       "996                     4038.0     True        False   \n",
       "997                    19750.0     True        False   \n",
       "998                   612547.0     True        False   \n",
       "999                     5219.0     True        False   \n",
       "\n",
       "     last_available_confirmed  last_available_confirmed_per_100k_inhabitants  \\\n",
       "0                          17                                      154.71423   \n",
       "1                           1                                       31.95909   \n",
       "2                           1                                        9.72668   \n",
       "3                          26                                      106.01859   \n",
       "4                           9                                       86.66346   \n",
       "..                        ...                                            ...   \n",
       "995                       270                                      872.85423   \n",
       "996                         8                                      198.11788   \n",
       "997                         8                                       40.50633   \n",
       "998                      2402                                      392.13318   \n",
       "999                        10                                      191.60759   \n",
       "\n",
       "    last_available_date  last_available_death_rate  last_available_deaths  \\\n",
       "0            2020-06-20                     0.1176                      2   \n",
       "1            2020-06-20                     0.0000                      0   \n",
       "2            2020-06-20                     0.0000                      0   \n",
       "3            2020-06-20                     0.0385                      1   \n",
       "4            2020-06-20                     0.0000                      0   \n",
       "..                  ...                        ...                    ...   \n",
       "995          2020-06-20                     0.0185                      5   \n",
       "996          2020-06-20                     0.0000                      0   \n",
       "997          2020-06-20                     0.1250                      1   \n",
       "998          2020-06-20                     0.0396                     95   \n",
       "999          2020-06-20                     0.1000                      1   \n",
       "\n",
       "     new_confirmed  new_deaths  order_for_place place_type state  \n",
       "0                0           0               69       city    GO  \n",
       "1                0           0                3       city    GO  \n",
       "2                0           0                2       city    GO  \n",
       "3                0           0               45       city    GO  \n",
       "4                0           0               30       city    GO  \n",
       "..             ...         ...              ...        ...   ...  \n",
       "995              4           0               59       city    MT  \n",
       "996              0           0               67       city    MT  \n",
       "997              0           0               44       city    MT  \n",
       "998            161           7               93       city    MT  \n",
       "999              2           0               51       city    MT  \n",
       "\n",
       "[1000 rows x 17 columns]"
      ]
     },
     "execution_count": 9,
     "metadata": {},
     "output_type": "execute_result"
    }
   ],
   "source": [
    "pd.DataFrame.from_dict(data['results'])"
   ]
  }
 ],
 "metadata": {
  "kernelspec": {
   "display_name": "Python 3",
   "language": "python",
   "name": "python3"
  },
  "language_info": {
   "codemirror_mode": {
    "name": "ipython",
    "version": 3
   },
   "file_extension": ".py",
   "mimetype": "text/x-python",
   "name": "python",
   "nbconvert_exporter": "python",
   "pygments_lexer": "ipython3",
   "version": "3.8.2"
  }
 },
 "nbformat": 4,
 "nbformat_minor": 4
}
