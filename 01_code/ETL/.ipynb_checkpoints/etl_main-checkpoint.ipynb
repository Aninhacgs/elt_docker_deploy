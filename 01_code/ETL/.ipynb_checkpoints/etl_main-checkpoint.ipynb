{
 "cells": [
  {
   "cell_type": "markdown",
   "metadata": {
    "scrolled": true
   },
   "source": [
    "!pip install requests"
   ]
  },
  {
   "cell_type": "markdown",
   "metadata": {
    "scrolled": true
   },
   "source": [
    "!pip install pandas"
   ]
  },
  {
   "cell_type": "markdown",
   "metadata": {},
   "source": [
    "##### Importando libs"
   ]
  },
  {
   "cell_type": "code",
   "execution_count": 1,
   "metadata": {},
   "outputs": [],
   "source": [
    "import pandas as pd\n",
    "import requests\n",
    "import json\n",
    "import math\n",
    "import os\n",
    "import re"
   ]
  },
  {
   "cell_type": "code",
   "execution_count": 2,
   "metadata": {},
   "outputs": [],
   "source": [
    "from json import JSONDecodeError"
   ]
  },
  {
   "cell_type": "markdown",
   "metadata": {},
   "source": [
    "##### Definindo parâmetros da chamada"
   ]
  },
  {
   "cell_type": "code",
   "execution_count": 3,
   "metadata": {},
   "outputs": [],
   "source": [
    "payload = {}\n",
    "headers = {'Cookie': ''}"
   ]
  },
  {
   "cell_type": "markdown",
   "metadata": {},
   "source": [
    "##### Definindo url e enviando chamada"
   ]
  },
  {
   "cell_type": "code",
   "execution_count": 4,
   "metadata": {},
   "outputs": [],
   "source": [
    "url_raw = \"https://brasil.io/api/dataset/covid19/caso_full/data/?page=\"\n",
    "url_base = \"https://brasil.io/api/dataset/covid19/caso_full/data/?page=1\"\n",
    "response_url_base = requests.request(\"GET\", url_base, headers=headers, data = payload)"
   ]
  },
  {
   "cell_type": "markdown",
   "metadata": {},
   "source": [
    "### Definindo diretório de trabalho e função nome diretório"
   ]
  },
  {
   "cell_type": "code",
   "execution_count": 5,
   "metadata": {},
   "outputs": [],
   "source": [
    "RAW_DIR_PATH = os.getenv(\"RAW_DIR_PATH\", os.path.join(os.getcwd(), 'DataFrame', '01_RAW'))\n",
    "RAW_DIR = lambda x: os.path.join(RAW_DIR_PATH, re.sub('[^a-zA-Z0-9 \\n\\.]', '_', x + '.csv'))"
   ]
  },
  {
   "cell_type": "markdown",
   "metadata": {},
   "source": [
    "### Carregando o resultado da chamada\n",
    "##### A disponibilidade do link é sempre verificada "
   ]
  },
  {
   "cell_type": "code",
   "execution_count": 6,
   "metadata": {},
   "outputs": [],
   "source": [
    "data = json.loads(response_url_base.text.encode('utf8').decode('utf8')) \\\n",
    "    if response_url_base.status_code == 200 \\\n",
    "        else print('Escrever Log')"
   ]
  },
  {
   "cell_type": "markdown",
   "metadata": {},
   "source": [
    "### Como há paginação da API e os dados crescem a cada dia, foi adicionado um um variável verificadora do link \"final\" da API"
   ]
  },
  {
   "cell_type": "code",
   "execution_count": 7,
   "metadata": {
    "scrolled": true
   },
   "outputs": [
    {
     "name": "stdout",
     "output_type": "stream",
     "text": [
      "https://brasil.io/api/dataset/covid19/caso_full/data/?page=295\n"
     ]
    }
   ],
   "source": [
    "page_final = math.ceil(data['count']/len(data['results']))\n",
    "\n",
    "url_final = \"https://brasil.io/api/dataset/covid19/caso_full/data/?page=\" + str(page_final) + \"\"\n",
    "\n",
    "print(url_final)"
   ]
  },
  {
   "cell_type": "code",
   "execution_count": 8,
   "metadata": {},
   "outputs": [
    {
     "data": {
      "text/plain": [
       "('https://brasil.io/api/dataset/covid19/caso_full/data/?page=2', None)"
      ]
     },
     "execution_count": 8,
     "metadata": {},
     "output_type": "execute_result"
    }
   ],
   "source": [
    "data['next'], data['previous']"
   ]
  },
  {
   "cell_type": "code",
   "execution_count": 9,
   "metadata": {
    "scrolled": true
   },
   "outputs": [
    {
     "data": {
      "text/plain": [
       "(None, 'https://brasil.io/api/dataset/covid19/caso_full/data/?page=294')"
      ]
     },
     "execution_count": 9,
     "metadata": {},
     "output_type": "execute_result"
    }
   ],
   "source": [
    "response_url_final = requests.request(\"GET\", url_final, headers=headers, data = payload)\n",
    "data_final = json.loads(response_url_final.text.encode('utf8').decode('utf8'))\n",
    "data_final['next'], data_final['previous']"
   ]
  },
  {
   "cell_type": "markdown",
   "metadata": {},
   "source": [
    "### Salvando o resultado da requisição em formato csv, na qual estava em formato json\n",
    "##### O arquivo apenas será salve caso ele não exista"
   ]
  },
  {
   "cell_type": "code",
   "execution_count": 10,
   "metadata": {},
   "outputs": [
    {
     "name": "stdout",
     "output_type": "stream",
     "text": [
      "DataFrame já carregado\n"
     ]
    }
   ],
   "source": [
    "RAW_DIR_FILE = RAW_DIR(os.path.join(re.sub('[^a-zA-Z0-9 \\n\\.]', '_', url_base)))\n",
    "\n",
    "pd.DataFrame.from_dict(data['results'])\\\n",
    "    .to_csv(RAW_DIR_FILE, index = False) \\\n",
    "        if not re.sub('[^a-zA-Z0-9 \\n\\.]', '_', url_base) + '.csv' in os.listdir(RAW_DIR_PATH) \\\n",
    "            else  print('DataFrame já carregado')"
   ]
  },
  {
   "cell_type": "code",
   "execution_count": 11,
   "metadata": {
    "scrolled": true
   },
   "outputs": [
    {
     "name": "stdout",
     "output_type": "stream",
     "text": [
      "DataFrame já carregado\n",
      "DataFrame já carregado\n",
      "DataFrame já carregado\n",
      "DataFrame já carregado\n",
      "DataFrame já carregado\n",
      "DataFrame já carregado\n",
      "DataFrame já carregado\n",
      "DataFrame já carregado\n",
      "DataFrame já carregado\n",
      "DataFrame já carregado\n",
      "Execução Terminada\n"
     ]
    }
   ],
   "source": [
    "link_num = 0\n",
    "link_num_begin = 80\n",
    "link_num_end = 90\n",
    "\n",
    "\n",
    "try:\n",
    "    while link_num_begin < link_num_end:\n",
    "        for link_num in range(link_num_begin, (link_num_end + 1)):\n",
    "\n",
    "            if re.sub('[^a-zA-Z0-9 \\n\\.]', '_', url_raw + str(link_num)) + '.csv' in os.listdir(RAW_DIR_PATH):\n",
    "                print('DataFrame já carregado', end = '\\n')\n",
    "            else:\n",
    "                response_url_link_num = requests.request(\"GET\", url_raw + str(link_num), headers=headers, data = payload)\n",
    "                data_link_num = json.loads(response_url_link_num.text.encode('utf8').decode('utf8')) if response_url_link_num.status_code == 200 else print('Escrever Log')\n",
    "\n",
    "                print(url_raw + str(link_num))\n",
    "\n",
    "                pd.DataFrame.from_dict(data_link_num['results'])\\\n",
    "                    .to_csv(RAW_DIR(url_raw + str(link_num)), index = False) \\\n",
    "                        if not re.sub('[^a-zA-Z0-9 \\n\\.]', '_', url_raw + str(link_num)) + '.csv' in os.listdir(RAW_DIR_PATH) else \\\n",
    "                            print('DataFrame já carregado', end = '\\n\\n')\n",
    "\n",
    "            link_num_begin = link_num_begin + 1\n",
    "\n",
    "            if link_num_begin == link_num_end:\n",
    "                break\n",
    "                \n",
    "except(TypeError, ConnectionError, JSONDecodeError, requests.exceptions.ConnectTimeout, HTTPError, ReadTimeout, Timeout, requests.exceptions.RequestException):\n",
    "    pass\n",
    "\n",
    "finally:\n",
    "    print('Execução Terminada')"
   ]
  },
  {
   "cell_type": "markdown",
   "metadata": {},
   "source": [
    "### Caso de uso tendo coomo base a url final"
   ]
  },
  {
   "cell_type": "code",
   "execution_count": 12,
   "metadata": {},
   "outputs": [
    {
     "name": "stdout",
     "output_type": "stream",
     "text": [
      "DataFrame já carregado\n",
      "DataFrame já carregado\n",
      "Execução Terminada\n"
     ]
    }
   ],
   "source": [
    "data_link = ''\n",
    "\n",
    "try:\n",
    "    while data_link != None:\n",
    "        for link_num in range(page_final - 1, page_final + 1):\n",
    "\n",
    "            if re.sub('[^a-zA-Z0-9 \\n\\.]', '_', url_raw + str(link_num)) + '.csv' in os.listdir(RAW_DIR_PATH):\n",
    "                print('DataFrame já carregado', end = '\\n')\n",
    "                \n",
    "                response_url_link_num = requests.request(\"GET\", url_raw + str(link_num), headers=headers, data = payload)\n",
    "                data_link_num = json.loads(response_url_link_num.text.encode('utf8').decode('utf8')) if response_url_link_num.status_code == 200 else print('Escrever Log')\n",
    "                data_link = data_link_num['next']\n",
    "                \n",
    "\n",
    "            else:\n",
    "                response_url_link_num = requests.request(\"GET\", url_raw + str(link_num), headers=headers, data = payload)\n",
    "                data_link_num = json.loads(response_url_link_num.text.encode('utf8').decode('utf8')) if response_url_link_num.status_code == 200 else print('Escrever Log')\n",
    "                data_link = data_link_num['next']\n",
    "                \n",
    "                print(url_raw + str(link_num))\n",
    "\n",
    "                pd.DataFrame.from_dict(data_link_num['results'])\\\n",
    "                    .to_csv(RAW_DIR(url_raw + str(link_num)) + '.csv', index = False) \\\n",
    "                        if not re.sub('[^a-zA-Z0-9 \\n\\.]', '_', url_raw + str(link_num)) + '.csv' in os.listdir(RAW_DIR_PATH) else \\\n",
    "                            print('DataFrame já carregado', end = '\\n\\n')\n",
    "\n",
    "\n",
    "                if data_link_num['next'] == None:\n",
    "                    break\n",
    "                \n",
    "except(TypeError, ConnectionError, JSONDecodeError, requests.exceptions.ConnectTimeout, HTTPError, ReadTimeout, Timeout, requests.exceptions.RequestException):\n",
    "    pass\n",
    "\n",
    "finally:\n",
    "    print('Execução Terminada')"
   ]
  },
  {
   "cell_type": "code",
   "execution_count": 13,
   "metadata": {
    "scrolled": false
   },
   "outputs": [
    {
     "data": {
      "text/plain": [
       "True"
      ]
     },
     "execution_count": 13,
     "metadata": {},
     "output_type": "execute_result"
    }
   ],
   "source": [
    "data_link is None"
   ]
  },
  {
   "cell_type": "markdown",
   "metadata": {},
   "source": [
    "##### Crição de uma lista ordenada dos arquivos csv salvos na raw"
   ]
  },
  {
   "cell_type": "code",
   "execution_count": 14,
   "metadata": {},
   "outputs": [],
   "source": [
    "maindir = os.getcwd()\n",
    "#search_dir = os.getcwd() + '\\\\DataFrame\\\\01_raw'\n",
    "os.chdir(RAW_DIR_PATH)\n",
    "\n",
    "files = filter(os.path.isfile, os.listdir(RAW_DIR_PATH)) #selecionando apenas arquivos\n",
    "files = [os.path.join(RAW_DIR_PATH, f) for f in files] #adiciona o diretório completo em uma lista\n",
    "files.sort(key=lambda x: os.path.getmtime(x)) #ordernacao por ondem de data/hora\n",
    "files = [f.replace(RAW_DIR_PATH + os.path.sep, '') for f in files] #linux\n",
    "#files = [f.replace(RAW_DIR_PATH + '\\\\', '') for f in files] #windows\n",
    "\n",
    "os.chdir(maindir)"
   ]
  },
  {
   "cell_type": "code",
   "execution_count": 15,
   "metadata": {},
   "outputs": [],
   "source": [
    "norm = lambda y: y.replace('.csv', '').replace('.', '_')"
   ]
  },
  {
   "cell_type": "code",
   "execution_count": 16,
   "metadata": {
    "scrolled": true
   },
   "outputs": [
    {
     "data": {
      "text/plain": [
       "['https___brasil.io_api_dataset_covid19_caso_full_data__page_2.csv',\n",
       " 'https___brasil.io_api_dataset_covid19_caso_full_data__page_3.csv',\n",
       " 'https___brasil.io_api_dataset_covid19_caso_full_data__page_4.csv',\n",
       " 'https___brasil.io_api_dataset_covid19_caso_full_data__page_5.csv',\n",
       " 'https___brasil.io_api_dataset_covid19_caso_full_data__page_6.csv',\n",
       " 'https___brasil.io_api_dataset_covid19_caso_full_data__page_7.csv',\n",
       " 'https___brasil.io_api_dataset_covid19_caso_full_data__page_8.csv',\n",
       " 'https___brasil.io_api_dataset_covid19_caso_full_data__page_9.csv',\n",
       " 'https___brasil.io_api_dataset_covid19_caso_full_data__page_10.csv',\n",
       " 'https___brasil.io_api_dataset_covid19_caso_full_data__page_11.csv',\n",
       " 'https___brasil.io_api_dataset_covid19_caso_full_data__page_12.csv',\n",
       " 'https___brasil.io_api_dataset_covid19_caso_full_data__page_13.csv',\n",
       " 'https___brasil.io_api_dataset_covid19_caso_full_data__page_14.csv',\n",
       " 'https___brasil.io_api_dataset_covid19_caso_full_data__page_15.csv',\n",
       " 'https___brasil.io_api_dataset_covid19_caso_full_data__page_16.csv',\n",
       " 'https___brasil.io_api_dataset_covid19_caso_full_data__page_17.csv',\n",
       " 'https___brasil.io_api_dataset_covid19_caso_full_data__page_18.csv',\n",
       " 'https___brasil.io_api_dataset_covid19_caso_full_data__page_19.csv',\n",
       " 'https___brasil.io_api_dataset_covid19_caso_full_data__page_20.csv',\n",
       " 'https___brasil.io_api_dataset_covid19_caso_full_data__page_21.csv',\n",
       " 'https___brasil.io_api_dataset_covid19_caso_full_data__page_22.csv',\n",
       " 'https___brasil.io_api_dataset_covid19_caso_full_data__page_23.csv',\n",
       " 'https___brasil.io_api_dataset_covid19_caso_full_data__page_24.csv',\n",
       " 'https___brasil.io_api_dataset_covid19_caso_full_data__page_25.csv',\n",
       " 'https___brasil.io_api_dataset_covid19_caso_full_data__page_26.csv',\n",
       " 'https___brasil.io_api_dataset_covid19_caso_full_data__page_27.csv',\n",
       " 'https___brasil.io_api_dataset_covid19_caso_full_data__page_28.csv',\n",
       " 'https___brasil.io_api_dataset_covid19_caso_full_data__page_29.csv',\n",
       " 'https___brasil.io_api_dataset_covid19_caso_full_data__page_30.csv',\n",
       " 'https___brasil.io_api_dataset_covid19_caso_full_data__page_31.csv',\n",
       " 'https___brasil.io_api_dataset_covid19_caso_full_data__page_32.csv',\n",
       " 'https___brasil.io_api_dataset_covid19_caso_full_data__page_33.csv',\n",
       " 'https___brasil.io_api_dataset_covid19_caso_full_data__page_34.csv',\n",
       " 'https___brasil.io_api_dataset_covid19_caso_full_data__page_35.csv',\n",
       " 'https___brasil.io_api_dataset_covid19_caso_full_data__page_36.csv',\n",
       " 'https___brasil.io_api_dataset_covid19_caso_full_data__page_37.csv',\n",
       " 'https___brasil.io_api_dataset_covid19_caso_full_data__page_38.csv',\n",
       " 'https___brasil.io_api_dataset_covid19_caso_full_data__page_39.csv',\n",
       " 'https___brasil.io_api_dataset_covid19_caso_full_data__page_40.csv',\n",
       " 'https___brasil.io_api_dataset_covid19_caso_full_data__page_41.csv',\n",
       " 'https___brasil.io_api_dataset_covid19_caso_full_data__page_42.csv',\n",
       " 'https___brasil.io_api_dataset_covid19_caso_full_data__page_43.csv',\n",
       " 'https___brasil.io_api_dataset_covid19_caso_full_data__page_44.csv',\n",
       " 'https___brasil.io_api_dataset_covid19_caso_full_data__page_45.csv',\n",
       " 'https___brasil.io_api_dataset_covid19_caso_full_data__page_46.csv',\n",
       " 'https___brasil.io_api_dataset_covid19_caso_full_data__page_47.csv',\n",
       " 'https___brasil.io_api_dataset_covid19_caso_full_data__page_48.csv',\n",
       " 'https___brasil.io_api_dataset_covid19_caso_full_data__page_49.csv',\n",
       " 'https___brasil.io_api_dataset_covid19_caso_full_data__page_50.csv',\n",
       " 'https___brasil.io_api_dataset_covid19_caso_full_data__page_51.csv',\n",
       " 'https___brasil.io_api_dataset_covid19_caso_full_data__page_52.csv',\n",
       " 'https___brasil.io_api_dataset_covid19_caso_full_data__page_53.csv',\n",
       " 'https___brasil.io_api_dataset_covid19_caso_full_data__page_54.csv',\n",
       " 'https___brasil.io_api_dataset_covid19_caso_full_data__page_55.csv',\n",
       " 'https___brasil.io_api_dataset_covid19_caso_full_data__page_56.csv',\n",
       " 'https___brasil.io_api_dataset_covid19_caso_full_data__page_57.csv',\n",
       " 'https___brasil.io_api_dataset_covid19_caso_full_data__page_58.csv',\n",
       " 'https___brasil.io_api_dataset_covid19_caso_full_data__page_59.csv',\n",
       " 'https___brasil.io_api_dataset_covid19_caso_full_data__page_60.csv',\n",
       " 'https___brasil.io_api_dataset_covid19_caso_full_data__page_61.csv',\n",
       " 'https___brasil.io_api_dataset_covid19_caso_full_data__page_62.csv',\n",
       " 'https___brasil.io_api_dataset_covid19_caso_full_data__page_63.csv',\n",
       " 'https___brasil.io_api_dataset_covid19_caso_full_data__page_64.csv',\n",
       " 'https___brasil.io_api_dataset_covid19_caso_full_data__page_65.csv',\n",
       " 'https___brasil.io_api_dataset_covid19_caso_full_data__page_66.csv',\n",
       " 'https___brasil.io_api_dataset_covid19_caso_full_data__page_67.csv',\n",
       " 'https___brasil.io_api_dataset_covid19_caso_full_data__page_68.csv',\n",
       " 'https___brasil.io_api_dataset_covid19_caso_full_data__page_69.csv',\n",
       " 'https___brasil.io_api_dataset_covid19_caso_full_data__page_70.csv',\n",
       " 'https___brasil.io_api_dataset_covid19_caso_full_data__page_71.csv',\n",
       " 'https___brasil.io_api_dataset_covid19_caso_full_data__page_72.csv',\n",
       " 'https___brasil.io_api_dataset_covid19_caso_full_data__page_73.csv',\n",
       " 'https___brasil.io_api_dataset_covid19_caso_full_data__page_74.csv',\n",
       " 'https___brasil.io_api_dataset_covid19_caso_full_data__page_75.csv',\n",
       " 'https___brasil.io_api_dataset_covid19_caso_full_data__page_1.csv',\n",
       " 'https___brasil.io_api_dataset_covid19_caso_full_data__page_268.csv',\n",
       " 'https___brasil.io_api_dataset_covid19_caso_full_data__page_269.csv',\n",
       " 'https___brasil.io_api_dataset_covid19_caso_full_data__page_273.csv',\n",
       " 'https___brasil.io_api_dataset_covid19_caso_full_data__page_274.csv',\n",
       " 'https___brasil.io_api_dataset_covid19_caso_full_data__page_279.csv',\n",
       " 'https___brasil.io_api_dataset_covid19_caso_full_data__page_280.csv',\n",
       " 'https___brasil.io_api_dataset_covid19_caso_full_data__page_294.csv',\n",
       " 'https___brasil.io_api_dataset_covid19_caso_full_data__page_295.csv',\n",
       " 'https___brasil.io_api_dataset_covid19_caso_full_data__page_76.csv',\n",
       " 'https___brasil.io_api_dataset_covid19_caso_full_data__page_77.csv',\n",
       " 'https___brasil.io_api_dataset_covid19_caso_full_data__page_78.csv',\n",
       " 'https___brasil.io_api_dataset_covid19_caso_full_data__page_79.csv',\n",
       " 'https___brasil.io_api_dataset_covid19_caso_full_data__page_80.csv',\n",
       " 'https___brasil.io_api_dataset_covid19_caso_full_data__page_81.csv',\n",
       " 'https___brasil.io_api_dataset_covid19_caso_full_data__page_82.csv',\n",
       " 'https___brasil.io_api_dataset_covid19_caso_full_data__page_83.csv',\n",
       " 'https___brasil.io_api_dataset_covid19_caso_full_data__page_84.csv',\n",
       " 'https___brasil.io_api_dataset_covid19_caso_full_data__page_85.csv',\n",
       " 'https___brasil.io_api_dataset_covid19_caso_full_data__page_86.csv',\n",
       " 'https___brasil.io_api_dataset_covid19_caso_full_data__page_87.csv',\n",
       " 'https___brasil.io_api_dataset_covid19_caso_full_data__page_88.csv',\n",
       " 'https___brasil.io_api_dataset_covid19_caso_full_data__page_89.csv',\n",
       " 'https___brasil.io_api_dataset_covid19_caso_full_data__page_90.csv']"
      ]
     },
     "execution_count": 16,
     "metadata": {},
     "output_type": "execute_result"
    }
   ],
   "source": [
    "files"
   ]
  },
  {
   "cell_type": "code",
   "execution_count": 17,
   "metadata": {
    "scrolled": true
   },
   "outputs": [],
   "source": [
    "tabelas = {}\n",
    "\n",
    "for x in range(files.index(files[0]), (files.index(files[-1]) + 1)):\n",
    "\n",
    "    tabelas['' + files[x].replace('.csv', '') + ''] = pd.read_csv(RAW_DIR_PATH + os.path.sep + files[x], delimiter=',')\n",
    "\n",
    "files2order = [f.replace('.csv', '') for f in files]\n",
    "\n",
    "for key in files2order:\n",
    "    tabelas[key] = tabelas.pop(key)\n",
    "    \n",
    "for key_rename in list(tabelas):\n",
    "    tabelas[key_rename.replace('.', '_')] = tabelas.pop(key_rename)\n",
    "    \n",
    "locals().update(tabelas) #transformando valores do dicionário em variáveis locais"
   ]
  },
  {
   "cell_type": "code",
   "execution_count": 18,
   "metadata": {
    "scrolled": true
   },
   "outputs": [
    {
     "data": {
      "text/html": [
       "<div>\n",
       "<style scoped>\n",
       "    .dataframe tbody tr th:only-of-type {\n",
       "        vertical-align: middle;\n",
       "    }\n",
       "\n",
       "    .dataframe tbody tr th {\n",
       "        vertical-align: top;\n",
       "    }\n",
       "\n",
       "    .dataframe thead th {\n",
       "        text-align: right;\n",
       "    }\n",
       "</style>\n",
       "<table border=\"1\" class=\"dataframe\">\n",
       "  <thead>\n",
       "    <tr style=\"text-align: right;\">\n",
       "      <th></th>\n",
       "      <th>city</th>\n",
       "      <th>city_ibge_code</th>\n",
       "      <th>date</th>\n",
       "      <th>epidemiological_week</th>\n",
       "      <th>estimated_population_2019</th>\n",
       "      <th>is_last</th>\n",
       "      <th>is_repeated</th>\n",
       "      <th>last_available_confirmed</th>\n",
       "      <th>last_available_confirmed_per_100k_inhabitants</th>\n",
       "      <th>last_available_date</th>\n",
       "      <th>last_available_death_rate</th>\n",
       "      <th>last_available_deaths</th>\n",
       "      <th>new_confirmed</th>\n",
       "      <th>new_deaths</th>\n",
       "      <th>order_for_place</th>\n",
       "      <th>place_type</th>\n",
       "      <th>state</th>\n",
       "    </tr>\n",
       "  </thead>\n",
       "  <tbody>\n",
       "    <tr>\n",
       "      <th>0</th>\n",
       "      <td>Nova Aurora</td>\n",
       "      <td>5214804.0</td>\n",
       "      <td>2020-06-26</td>\n",
       "      <td>26</td>\n",
       "      <td>2210.0</td>\n",
       "      <td>True</td>\n",
       "      <td>False</td>\n",
       "      <td>2</td>\n",
       "      <td>90.49774</td>\n",
       "      <td>2020-06-26</td>\n",
       "      <td>0.5000</td>\n",
       "      <td>1</td>\n",
       "      <td>-4</td>\n",
       "      <td>1</td>\n",
       "      <td>14</td>\n",
       "      <td>city</td>\n",
       "      <td>GO</td>\n",
       "    </tr>\n",
       "    <tr>\n",
       "      <th>1</th>\n",
       "      <td>Nova Crixás</td>\n",
       "      <td>5214838.0</td>\n",
       "      <td>2020-06-26</td>\n",
       "      <td>26</td>\n",
       "      <td>12869.0</td>\n",
       "      <td>True</td>\n",
       "      <td>False</td>\n",
       "      <td>1</td>\n",
       "      <td>7.77061</td>\n",
       "      <td>2020-06-26</td>\n",
       "      <td>0.0000</td>\n",
       "      <td>0</td>\n",
       "      <td>0</td>\n",
       "      <td>0</td>\n",
       "      <td>11</td>\n",
       "      <td>city</td>\n",
       "      <td>GO</td>\n",
       "    </tr>\n",
       "    <tr>\n",
       "      <th>2</th>\n",
       "      <td>Nova Glória</td>\n",
       "      <td>5214861.0</td>\n",
       "      <td>2020-06-26</td>\n",
       "      <td>26</td>\n",
       "      <td>8164.0</td>\n",
       "      <td>True</td>\n",
       "      <td>False</td>\n",
       "      <td>34</td>\n",
       "      <td>416.46252</td>\n",
       "      <td>2020-06-26</td>\n",
       "      <td>0.0000</td>\n",
       "      <td>0</td>\n",
       "      <td>2</td>\n",
       "      <td>0</td>\n",
       "      <td>81</td>\n",
       "      <td>city</td>\n",
       "      <td>GO</td>\n",
       "    </tr>\n",
       "    <tr>\n",
       "      <th>3</th>\n",
       "      <td>Nova Iguaçu de Goiás</td>\n",
       "      <td>5214879.0</td>\n",
       "      <td>2020-06-26</td>\n",
       "      <td>26</td>\n",
       "      <td>2929.0</td>\n",
       "      <td>True</td>\n",
       "      <td>False</td>\n",
       "      <td>2</td>\n",
       "      <td>68.28269</td>\n",
       "      <td>2020-06-26</td>\n",
       "      <td>0.0000</td>\n",
       "      <td>0</td>\n",
       "      <td>0</td>\n",
       "      <td>0</td>\n",
       "      <td>10</td>\n",
       "      <td>city</td>\n",
       "      <td>GO</td>\n",
       "    </tr>\n",
       "    <tr>\n",
       "      <th>4</th>\n",
       "      <td>Nova Veneza</td>\n",
       "      <td>5215009.0</td>\n",
       "      <td>2020-06-26</td>\n",
       "      <td>26</td>\n",
       "      <td>9853.0</td>\n",
       "      <td>True</td>\n",
       "      <td>False</td>\n",
       "      <td>9</td>\n",
       "      <td>91.34274</td>\n",
       "      <td>2020-06-26</td>\n",
       "      <td>0.0000</td>\n",
       "      <td>0</td>\n",
       "      <td>2</td>\n",
       "      <td>0</td>\n",
       "      <td>85</td>\n",
       "      <td>city</td>\n",
       "      <td>GO</td>\n",
       "    </tr>\n",
       "    <tr>\n",
       "      <th>...</th>\n",
       "      <td>...</td>\n",
       "      <td>...</td>\n",
       "      <td>...</td>\n",
       "      <td>...</td>\n",
       "      <td>...</td>\n",
       "      <td>...</td>\n",
       "      <td>...</td>\n",
       "      <td>...</td>\n",
       "      <td>...</td>\n",
       "      <td>...</td>\n",
       "      <td>...</td>\n",
       "      <td>...</td>\n",
       "      <td>...</td>\n",
       "      <td>...</td>\n",
       "      <td>...</td>\n",
       "      <td>...</td>\n",
       "      <td>...</td>\n",
       "    </tr>\n",
       "    <tr>\n",
       "      <th>995</th>\n",
       "      <td>Corumbá</td>\n",
       "      <td>5003207.0</td>\n",
       "      <td>2020-06-26</td>\n",
       "      <td>26</td>\n",
       "      <td>111435.0</td>\n",
       "      <td>False</td>\n",
       "      <td>True</td>\n",
       "      <td>267</td>\n",
       "      <td>239.60156</td>\n",
       "      <td>2020-06-25</td>\n",
       "      <td>0.0225</td>\n",
       "      <td>6</td>\n",
       "      <td>0</td>\n",
       "      <td>0</td>\n",
       "      <td>81</td>\n",
       "      <td>city</td>\n",
       "      <td>MS</td>\n",
       "    </tr>\n",
       "    <tr>\n",
       "      <th>996</th>\n",
       "      <td>Costa Rica</td>\n",
       "      <td>5003256.0</td>\n",
       "      <td>2020-06-26</td>\n",
       "      <td>26</td>\n",
       "      <td>20823.0</td>\n",
       "      <td>False</td>\n",
       "      <td>True</td>\n",
       "      <td>41</td>\n",
       "      <td>196.89766</td>\n",
       "      <td>2020-06-25</td>\n",
       "      <td>0.0000</td>\n",
       "      <td>0</td>\n",
       "      <td>0</td>\n",
       "      <td>0</td>\n",
       "      <td>28</td>\n",
       "      <td>city</td>\n",
       "      <td>MS</td>\n",
       "    </tr>\n",
       "    <tr>\n",
       "      <th>997</th>\n",
       "      <td>Coxim</td>\n",
       "      <td>5003306.0</td>\n",
       "      <td>2020-06-26</td>\n",
       "      <td>26</td>\n",
       "      <td>33543.0</td>\n",
       "      <td>False</td>\n",
       "      <td>True</td>\n",
       "      <td>10</td>\n",
       "      <td>29.81248</td>\n",
       "      <td>2020-06-25</td>\n",
       "      <td>0.0000</td>\n",
       "      <td>0</td>\n",
       "      <td>0</td>\n",
       "      <td>0</td>\n",
       "      <td>75</td>\n",
       "      <td>city</td>\n",
       "      <td>MS</td>\n",
       "    </tr>\n",
       "    <tr>\n",
       "      <th>998</th>\n",
       "      <td>Deodápolis</td>\n",
       "      <td>5003454.0</td>\n",
       "      <td>2020-06-26</td>\n",
       "      <td>26</td>\n",
       "      <td>12924.0</td>\n",
       "      <td>False</td>\n",
       "      <td>True</td>\n",
       "      <td>33</td>\n",
       "      <td>255.33890</td>\n",
       "      <td>2020-06-25</td>\n",
       "      <td>0.0303</td>\n",
       "      <td>1</td>\n",
       "      <td>0</td>\n",
       "      <td>0</td>\n",
       "      <td>41</td>\n",
       "      <td>city</td>\n",
       "      <td>MS</td>\n",
       "    </tr>\n",
       "    <tr>\n",
       "      <th>999</th>\n",
       "      <td>Douradina</td>\n",
       "      <td>5003504.0</td>\n",
       "      <td>2020-06-26</td>\n",
       "      <td>26</td>\n",
       "      <td>5924.0</td>\n",
       "      <td>False</td>\n",
       "      <td>True</td>\n",
       "      <td>103</td>\n",
       "      <td>1738.69007</td>\n",
       "      <td>2020-06-25</td>\n",
       "      <td>0.0097</td>\n",
       "      <td>1</td>\n",
       "      <td>0</td>\n",
       "      <td>0</td>\n",
       "      <td>41</td>\n",
       "      <td>city</td>\n",
       "      <td>MS</td>\n",
       "    </tr>\n",
       "  </tbody>\n",
       "</table>\n",
       "<p>1000 rows × 17 columns</p>\n",
       "</div>"
      ],
      "text/plain": [
       "                     city  city_ibge_code        date  epidemiological_week  \\\n",
       "0             Nova Aurora       5214804.0  2020-06-26                    26   \n",
       "1             Nova Crixás       5214838.0  2020-06-26                    26   \n",
       "2             Nova Glória       5214861.0  2020-06-26                    26   \n",
       "3    Nova Iguaçu de Goiás       5214879.0  2020-06-26                    26   \n",
       "4             Nova Veneza       5215009.0  2020-06-26                    26   \n",
       "..                    ...             ...         ...                   ...   \n",
       "995               Corumbá       5003207.0  2020-06-26                    26   \n",
       "996            Costa Rica       5003256.0  2020-06-26                    26   \n",
       "997                 Coxim       5003306.0  2020-06-26                    26   \n",
       "998            Deodápolis       5003454.0  2020-06-26                    26   \n",
       "999             Douradina       5003504.0  2020-06-26                    26   \n",
       "\n",
       "     estimated_population_2019  is_last  is_repeated  \\\n",
       "0                       2210.0     True        False   \n",
       "1                      12869.0     True        False   \n",
       "2                       8164.0     True        False   \n",
       "3                       2929.0     True        False   \n",
       "4                       9853.0     True        False   \n",
       "..                         ...      ...          ...   \n",
       "995                   111435.0    False         True   \n",
       "996                    20823.0    False         True   \n",
       "997                    33543.0    False         True   \n",
       "998                    12924.0    False         True   \n",
       "999                     5924.0    False         True   \n",
       "\n",
       "     last_available_confirmed  last_available_confirmed_per_100k_inhabitants  \\\n",
       "0                           2                                       90.49774   \n",
       "1                           1                                        7.77061   \n",
       "2                          34                                      416.46252   \n",
       "3                           2                                       68.28269   \n",
       "4                           9                                       91.34274   \n",
       "..                        ...                                            ...   \n",
       "995                       267                                      239.60156   \n",
       "996                        41                                      196.89766   \n",
       "997                        10                                       29.81248   \n",
       "998                        33                                      255.33890   \n",
       "999                       103                                     1738.69007   \n",
       "\n",
       "    last_available_date  last_available_death_rate  last_available_deaths  \\\n",
       "0            2020-06-26                     0.5000                      1   \n",
       "1            2020-06-26                     0.0000                      0   \n",
       "2            2020-06-26                     0.0000                      0   \n",
       "3            2020-06-26                     0.0000                      0   \n",
       "4            2020-06-26                     0.0000                      0   \n",
       "..                  ...                        ...                    ...   \n",
       "995          2020-06-25                     0.0225                      6   \n",
       "996          2020-06-25                     0.0000                      0   \n",
       "997          2020-06-25                     0.0000                      0   \n",
       "998          2020-06-25                     0.0303                      1   \n",
       "999          2020-06-25                     0.0097                      1   \n",
       "\n",
       "     new_confirmed  new_deaths  order_for_place place_type state  \n",
       "0               -4           1               14       city    GO  \n",
       "1                0           0               11       city    GO  \n",
       "2                2           0               81       city    GO  \n",
       "3                0           0               10       city    GO  \n",
       "4                2           0               85       city    GO  \n",
       "..             ...         ...              ...        ...   ...  \n",
       "995              0           0               81       city    MS  \n",
       "996              0           0               28       city    MS  \n",
       "997              0           0               75       city    MS  \n",
       "998              0           0               41       city    MS  \n",
       "999              0           0               41       city    MS  \n",
       "\n",
       "[1000 rows x 17 columns]"
      ]
     },
     "execution_count": 18,
     "metadata": {},
     "output_type": "execute_result"
    }
   ],
   "source": [
    "https___brasil_io_api_dataset_covid19_caso_full_data__page_2"
   ]
  },
  {
   "cell_type": "markdown",
   "metadata": {},
   "source": [
    "___________________________________________________________________________________________________________________________"
   ]
  },
  {
   "cell_type": "markdown",
   "metadata": {},
   "source": [
    "### Dividir por estados"
   ]
  },
  {
   "cell_type": "code",
   "execution_count": null,
   "metadata": {},
   "outputs": [],
   "source": []
  },
  {
   "cell_type": "markdown",
   "metadata": {},
   "source": [
    "dash.plotly.com\n",
    "\n",
    "elt_main.py\n",
    "\n",
    "show_df.py"
   ]
  }
 ],
 "metadata": {
  "kernelspec": {
   "display_name": "Python 3",
   "language": "python",
   "name": "python3"
  },
  "language_info": {
   "codemirror_mode": {
    "name": "ipython",
    "version": 3
   },
   "file_extension": ".py",
   "mimetype": "text/x-python",
   "name": "python",
   "nbconvert_exporter": "python",
   "pygments_lexer": "ipython3",
   "version": "3.8.2"
  }
 },
 "nbformat": 4,
 "nbformat_minor": 4
}
